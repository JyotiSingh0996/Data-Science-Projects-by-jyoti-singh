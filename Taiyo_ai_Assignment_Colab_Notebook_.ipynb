{
  "nbformat": 4,
  "nbformat_minor": 0,
  "metadata": {
    "colab": {
      "provenance": [],
      "authorship_tag": "ABX9TyMqI1eXEqxSEC5k+04EzDTg",
      "include_colab_link": true
    },
    "kernelspec": {
      "name": "python3",
      "display_name": "Python 3"
    },
    "language_info": {
      "name": "python"
    }
  },
  "cells": [
    {
      "cell_type": "markdown",
      "metadata": {
        "id": "view-in-github",
        "colab_type": "text"
      },
      "source": [
        "<a href=\"https://colab.research.google.com/github/JyotiSingh0996/Data-Science-Projects-by-jyoti-singh/blob/main/Taiyo_ai_Assignment_Colab_Notebook_.ipynb\" target=\"_parent\"><img src=\"https://colab.research.google.com/assets/colab-badge.svg\" alt=\"Open In Colab\"/></a>"
      ]
    },
    {
      "cell_type": "markdown",
      "source": [
        "# Main Objective - Predict Domestic Market"
      ],
      "metadata": {
        "id": "AvVeANcyLpXb"
      }
    },
    {
      "cell_type": "code",
      "execution_count": null,
      "metadata": {
        "id": "_Pi9QDfQzi58"
      },
      "outputs": [],
      "source": [
        "# Import Libraries\n",
        "import numpy as np\n",
        "import pandas as pd\n",
        "from numpy import math\n",
        "import seaborn as sns\n",
        "import matplotlib.pyplot as plt\n",
        "%matplotlib inline\n",
        "from matplotlib import rcParams\n",
        "import math\n",
        "from statsmodels.stats.outliers_influence import variance_inflation_factor\n",
        "from sklearn.preprocessing import StandardScaler\n",
        "from sklearn.preprocessing import MinMaxScaler\n",
        "from sklearn.model_selection import train_test_split\n",
        "from imblearn.over_sampling import SMOTE\n",
        "from sklearn.linear_model import LogisticRegression\n",
        "from sklearn.tree import DecisionTreeClassifier \n",
        "from sklearn.ensemble import RandomForestClassifier\n",
        "from sklearn.metrics import accuracy_score, confusion_matrix\n",
        "from sklearn import metrics\n",
        "from sklearn.metrics import mean_absolute_error\n",
        "from sklearn.metrics import r2_score\n",
        "from sklearn.metrics import mean_squared_error\n",
        "from sklearn.metrics import roc_curve\n",
        "from sklearn.model_selection import GridSearchCV\n",
        "from sklearn.model_selection import RepeatedStratifiedKFold\n",
        "from xgboost import XGBClassifier\n",
        "from xgboost import XGBRFClassifier\n",
        "from sklearn.tree import export_graphviz\n",
        "import shap \n",
        "import graphviz\n",
        "sns.set_style('darkgrid') \n",
        "\n",
        "import warnings\n",
        "warnings.filterwarnings('ignore')"
      ]
    },
    {
      "cell_type": "code",
      "source": [
        "# Load dfset\n",
        "from google.colab import drive\n",
        "drive.mount('/content/drive')"
      ],
      "metadata": {
        "colab": {
          "base_uri": "https://localhost:8080/"
        },
        "id": "gxLaykrw0FGR",
        "outputId": "b99a45f4-e588-4c5d-d1f9-3a8f3a456fb7"
      },
      "execution_count": null,
      "outputs": [
        {
          "output_type": "stream",
          "name": "stdout",
          "text": [
            "Drive already mounted at /content/drive; to attempt to forcibly remount, call drive.mount(\"/content/drive\", force_remount=True).\n"
          ]
        }
      ]
    },
    {
      "cell_type": "code",
      "source": [
        "# dfset_first_look\n",
        "df = pd.read_csv('/content/drive/MyDrive/Random Price Dataset Trial Assignment (1).csv',index_col='Date',parse_dates=True)\n",
        "df.head()"
      ],
      "metadata": {
        "colab": {
          "base_uri": "https://localhost:8080/",
          "height": 504
        },
        "id": "8R1GtSwp0N0v",
        "outputId": "cc53377e-d449-4cc9-910d-36d479f2e734"
      },
      "execution_count": null,
      "outputs": [
        {
          "output_type": "execute_result",
          "data": {
            "text/plain": [
              "            Domestic Market (Contract) Blow Molding, Low  \\\n",
              "Date                                                       \n",
              "2000-01-01                                            41   \n",
              "2000-01-02                                            41   \n",
              "2000-01-03                                            45   \n",
              "2000-01-04                                            47   \n",
              "2000-01-05                                            47   \n",
              "\n",
              "            Spot/Export Blow Molding  Spot, Domestic  WTISPLC  MCOILBRENTEU  \\\n",
              "Date                                                                          \n",
              "2000-01-01                       NaN             NaN    27.18         25.51   \n",
              "2000-01-02                       NaN             NaN    29.35         27.78   \n",
              "2000-01-03                       NaN             NaN    29.89         27.49   \n",
              "2000-01-04                       NaN             NaN    25.74         22.76   \n",
              "2000-01-05                       NaN             NaN    28.78         27.74   \n",
              "\n",
              "            GASREGM   IMPCH   EXPCH  PRUBBUSDM  WPUFD4111  ...  Russia_import  \\\n",
              "Date                                                       ...                  \n",
              "2000-01-01    1.289  6902.1   863.1  29.207387      135.0  ...            NaN   \n",
              "2000-01-02    1.377  6584.4   972.7  33.391099      136.0  ...            NaN   \n",
              "2000-01-03    1.516  6424.1  1330.5  30.941913      136.0  ...            NaN   \n",
              "2000-01-04    1.465  7070.5  1227.5  31.930148      137.3  ...            NaN   \n",
              "2000-01-05    1.487  7850.2  1526.3  31.201702      138.2  ...            NaN   \n",
              "\n",
              "            South_Africa_import  Turkey_import  Brazil_import  France_import  \\\n",
              "Date                                                                           \n",
              "2000-01-01                  NaN   6,833,222.00   2,649,293.00  35,239,920.00   \n",
              "2000-01-02                  NaN   5,647,987.00   2,787,667.00  36,716,752.00   \n",
              "2000-01-03                  NaN   6,721,125.00   4,692,701.00  45,144,561.00   \n",
              "2000-01-04                  NaN   7,169,182.00   2,565,068.00  32,240,349.00   \n",
              "2000-01-05                  NaN  10,466,333.00   4,671,325.00  29,351,633.00   \n",
              "\n",
              "            Germeny_import  United Kingdome_import  China_import  \\\n",
              "Date                                                               \n",
              "2000-01-01             NaN                     NaN           NaN   \n",
              "2000-01-02             NaN                     NaN           NaN   \n",
              "2000-01-03             NaN                     NaN           NaN   \n",
              "2000-01-04             NaN                     NaN           NaN   \n",
              "2000-01-05             NaN                     NaN           NaN   \n",
              "\n",
              "            Japan_import  South_korea_import  \n",
              "Date                                          \n",
              "2000-01-01           NaN                 NaN  \n",
              "2000-01-02           NaN                 NaN  \n",
              "2000-01-03           NaN                 NaN  \n",
              "2000-01-04           NaN                 NaN  \n",
              "2000-01-05           NaN                 NaN  \n",
              "\n",
              "[5 rows x 49 columns]"
            ],
            "text/html": [
              "\n",
              "  <div id=\"df-1736017f-3988-4c5f-ba24-7540df328fbf\">\n",
              "    <div class=\"colab-df-container\">\n",
              "      <div>\n",
              "<style scoped>\n",
              "    .dataframe tbody tr th:only-of-type {\n",
              "        vertical-align: middle;\n",
              "    }\n",
              "\n",
              "    .dataframe tbody tr th {\n",
              "        vertical-align: top;\n",
              "    }\n",
              "\n",
              "    .dataframe thead th {\n",
              "        text-align: right;\n",
              "    }\n",
              "</style>\n",
              "<table border=\"1\" class=\"dataframe\">\n",
              "  <thead>\n",
              "    <tr style=\"text-align: right;\">\n",
              "      <th></th>\n",
              "      <th>Domestic Market (Contract) Blow Molding, Low</th>\n",
              "      <th>Spot/Export Blow Molding</th>\n",
              "      <th>Spot, Domestic</th>\n",
              "      <th>WTISPLC</th>\n",
              "      <th>MCOILBRENTEU</th>\n",
              "      <th>GASREGM</th>\n",
              "      <th>IMPCH</th>\n",
              "      <th>EXPCH</th>\n",
              "      <th>PRUBBUSDM</th>\n",
              "      <th>WPUFD4111</th>\n",
              "      <th>...</th>\n",
              "      <th>Russia_import</th>\n",
              "      <th>South_Africa_import</th>\n",
              "      <th>Turkey_import</th>\n",
              "      <th>Brazil_import</th>\n",
              "      <th>France_import</th>\n",
              "      <th>Germeny_import</th>\n",
              "      <th>United Kingdome_import</th>\n",
              "      <th>China_import</th>\n",
              "      <th>Japan_import</th>\n",
              "      <th>South_korea_import</th>\n",
              "    </tr>\n",
              "    <tr>\n",
              "      <th>Date</th>\n",
              "      <th></th>\n",
              "      <th></th>\n",
              "      <th></th>\n",
              "      <th></th>\n",
              "      <th></th>\n",
              "      <th></th>\n",
              "      <th></th>\n",
              "      <th></th>\n",
              "      <th></th>\n",
              "      <th></th>\n",
              "      <th></th>\n",
              "      <th></th>\n",
              "      <th></th>\n",
              "      <th></th>\n",
              "      <th></th>\n",
              "      <th></th>\n",
              "      <th></th>\n",
              "      <th></th>\n",
              "      <th></th>\n",
              "      <th></th>\n",
              "      <th></th>\n",
              "    </tr>\n",
              "  </thead>\n",
              "  <tbody>\n",
              "    <tr>\n",
              "      <th>2000-01-01</th>\n",
              "      <td>41</td>\n",
              "      <td>NaN</td>\n",
              "      <td>NaN</td>\n",
              "      <td>27.18</td>\n",
              "      <td>25.51</td>\n",
              "      <td>1.289</td>\n",
              "      <td>6902.1</td>\n",
              "      <td>863.1</td>\n",
              "      <td>29.207387</td>\n",
              "      <td>135.0</td>\n",
              "      <td>...</td>\n",
              "      <td>NaN</td>\n",
              "      <td>NaN</td>\n",
              "      <td>6,833,222.00</td>\n",
              "      <td>2,649,293.00</td>\n",
              "      <td>35,239,920.00</td>\n",
              "      <td>NaN</td>\n",
              "      <td>NaN</td>\n",
              "      <td>NaN</td>\n",
              "      <td>NaN</td>\n",
              "      <td>NaN</td>\n",
              "    </tr>\n",
              "    <tr>\n",
              "      <th>2000-01-02</th>\n",
              "      <td>41</td>\n",
              "      <td>NaN</td>\n",
              "      <td>NaN</td>\n",
              "      <td>29.35</td>\n",
              "      <td>27.78</td>\n",
              "      <td>1.377</td>\n",
              "      <td>6584.4</td>\n",
              "      <td>972.7</td>\n",
              "      <td>33.391099</td>\n",
              "      <td>136.0</td>\n",
              "      <td>...</td>\n",
              "      <td>NaN</td>\n",
              "      <td>NaN</td>\n",
              "      <td>5,647,987.00</td>\n",
              "      <td>2,787,667.00</td>\n",
              "      <td>36,716,752.00</td>\n",
              "      <td>NaN</td>\n",
              "      <td>NaN</td>\n",
              "      <td>NaN</td>\n",
              "      <td>NaN</td>\n",
              "      <td>NaN</td>\n",
              "    </tr>\n",
              "    <tr>\n",
              "      <th>2000-01-03</th>\n",
              "      <td>45</td>\n",
              "      <td>NaN</td>\n",
              "      <td>NaN</td>\n",
              "      <td>29.89</td>\n",
              "      <td>27.49</td>\n",
              "      <td>1.516</td>\n",
              "      <td>6424.1</td>\n",
              "      <td>1330.5</td>\n",
              "      <td>30.941913</td>\n",
              "      <td>136.0</td>\n",
              "      <td>...</td>\n",
              "      <td>NaN</td>\n",
              "      <td>NaN</td>\n",
              "      <td>6,721,125.00</td>\n",
              "      <td>4,692,701.00</td>\n",
              "      <td>45,144,561.00</td>\n",
              "      <td>NaN</td>\n",
              "      <td>NaN</td>\n",
              "      <td>NaN</td>\n",
              "      <td>NaN</td>\n",
              "      <td>NaN</td>\n",
              "    </tr>\n",
              "    <tr>\n",
              "      <th>2000-01-04</th>\n",
              "      <td>47</td>\n",
              "      <td>NaN</td>\n",
              "      <td>NaN</td>\n",
              "      <td>25.74</td>\n",
              "      <td>22.76</td>\n",
              "      <td>1.465</td>\n",
              "      <td>7070.5</td>\n",
              "      <td>1227.5</td>\n",
              "      <td>31.930148</td>\n",
              "      <td>137.3</td>\n",
              "      <td>...</td>\n",
              "      <td>NaN</td>\n",
              "      <td>NaN</td>\n",
              "      <td>7,169,182.00</td>\n",
              "      <td>2,565,068.00</td>\n",
              "      <td>32,240,349.00</td>\n",
              "      <td>NaN</td>\n",
              "      <td>NaN</td>\n",
              "      <td>NaN</td>\n",
              "      <td>NaN</td>\n",
              "      <td>NaN</td>\n",
              "    </tr>\n",
              "    <tr>\n",
              "      <th>2000-01-05</th>\n",
              "      <td>47</td>\n",
              "      <td>NaN</td>\n",
              "      <td>NaN</td>\n",
              "      <td>28.78</td>\n",
              "      <td>27.74</td>\n",
              "      <td>1.487</td>\n",
              "      <td>7850.2</td>\n",
              "      <td>1526.3</td>\n",
              "      <td>31.201702</td>\n",
              "      <td>138.2</td>\n",
              "      <td>...</td>\n",
              "      <td>NaN</td>\n",
              "      <td>NaN</td>\n",
              "      <td>10,466,333.00</td>\n",
              "      <td>4,671,325.00</td>\n",
              "      <td>29,351,633.00</td>\n",
              "      <td>NaN</td>\n",
              "      <td>NaN</td>\n",
              "      <td>NaN</td>\n",
              "      <td>NaN</td>\n",
              "      <td>NaN</td>\n",
              "    </tr>\n",
              "  </tbody>\n",
              "</table>\n",
              "<p>5 rows × 49 columns</p>\n",
              "</div>\n",
              "      <button class=\"colab-df-convert\" onclick=\"convertToInteractive('df-1736017f-3988-4c5f-ba24-7540df328fbf')\"\n",
              "              title=\"Convert this dataframe to an interactive table.\"\n",
              "              style=\"display:none;\">\n",
              "        \n",
              "  <svg xmlns=\"http://www.w3.org/2000/svg\" height=\"24px\"viewBox=\"0 0 24 24\"\n",
              "       width=\"24px\">\n",
              "    <path d=\"M0 0h24v24H0V0z\" fill=\"none\"/>\n",
              "    <path d=\"M18.56 5.44l.94 2.06.94-2.06 2.06-.94-2.06-.94-.94-2.06-.94 2.06-2.06.94zm-11 1L8.5 8.5l.94-2.06 2.06-.94-2.06-.94L8.5 2.5l-.94 2.06-2.06.94zm10 10l.94 2.06.94-2.06 2.06-.94-2.06-.94-.94-2.06-.94 2.06-2.06.94z\"/><path d=\"M17.41 7.96l-1.37-1.37c-.4-.4-.92-.59-1.43-.59-.52 0-1.04.2-1.43.59L10.3 9.45l-7.72 7.72c-.78.78-.78 2.05 0 2.83L4 21.41c.39.39.9.59 1.41.59.51 0 1.02-.2 1.41-.59l7.78-7.78 2.81-2.81c.8-.78.8-2.07 0-2.86zM5.41 20L4 18.59l7.72-7.72 1.47 1.35L5.41 20z\"/>\n",
              "  </svg>\n",
              "      </button>\n",
              "      \n",
              "  <style>\n",
              "    .colab-df-container {\n",
              "      display:flex;\n",
              "      flex-wrap:wrap;\n",
              "      gap: 12px;\n",
              "    }\n",
              "\n",
              "    .colab-df-convert {\n",
              "      background-color: #E8F0FE;\n",
              "      border: none;\n",
              "      border-radius: 50%;\n",
              "      cursor: pointer;\n",
              "      display: none;\n",
              "      fill: #1967D2;\n",
              "      height: 32px;\n",
              "      padding: 0 0 0 0;\n",
              "      width: 32px;\n",
              "    }\n",
              "\n",
              "    .colab-df-convert:hover {\n",
              "      background-color: #E2EBFA;\n",
              "      box-shadow: 0px 1px 2px rgba(60, 64, 67, 0.3), 0px 1px 3px 1px rgba(60, 64, 67, 0.15);\n",
              "      fill: #174EA6;\n",
              "    }\n",
              "\n",
              "    [theme=dark] .colab-df-convert {\n",
              "      background-color: #3B4455;\n",
              "      fill: #D2E3FC;\n",
              "    }\n",
              "\n",
              "    [theme=dark] .colab-df-convert:hover {\n",
              "      background-color: #434B5C;\n",
              "      box-shadow: 0px 1px 3px 1px rgba(0, 0, 0, 0.15);\n",
              "      filter: drop-shadow(0px 1px 2px rgba(0, 0, 0, 0.3));\n",
              "      fill: #FFFFFF;\n",
              "    }\n",
              "  </style>\n",
              "\n",
              "      <script>\n",
              "        const buttonEl =\n",
              "          document.querySelector('#df-1736017f-3988-4c5f-ba24-7540df328fbf button.colab-df-convert');\n",
              "        buttonEl.style.display =\n",
              "          google.colab.kernel.accessAllowed ? 'block' : 'none';\n",
              "\n",
              "        async function convertToInteractive(key) {\n",
              "          const element = document.querySelector('#df-1736017f-3988-4c5f-ba24-7540df328fbf');\n",
              "          const dataTable =\n",
              "            await google.colab.kernel.invokeFunction('convertToInteractive',\n",
              "                                                     [key], {});\n",
              "          if (!dataTable) return;\n",
              "\n",
              "          const docLinkHtml = 'Like what you see? Visit the ' +\n",
              "            '<a target=\"_blank\" href=https://colab.research.google.com/notebooks/data_table.ipynb>data table notebook</a>'\n",
              "            + ' to learn more about interactive tables.';\n",
              "          element.innerHTML = '';\n",
              "          dataTable['output_type'] = 'display_data';\n",
              "          await google.colab.output.renderOutput(dataTable, element);\n",
              "          const docLink = document.createElement('div');\n",
              "          docLink.innerHTML = docLinkHtml;\n",
              "          element.appendChild(docLink);\n",
              "        }\n",
              "      </script>\n",
              "    </div>\n",
              "  </div>\n",
              "  "
            ]
          },
          "metadata": {},
          "execution_count": 203
        }
      ]
    },
    {
      "cell_type": "code",
      "source": [
        "# dfset Rows & Columns count\n",
        "df.shape"
      ],
      "metadata": {
        "colab": {
          "base_uri": "https://localhost:8080/"
        },
        "id": "dpYQvjdo0yPJ",
        "outputId": "e0636266-d9fd-4291-9d10-5ea3a695b301"
      },
      "execution_count": null,
      "outputs": [
        {
          "output_type": "execute_result",
          "data": {
            "text/plain": [
              "(276, 49)"
            ]
          },
          "metadata": {},
          "execution_count": 204
        }
      ]
    },
    {
      "cell_type": "code",
      "source": [
        "# dfset info\n",
        "df.info()"
      ],
      "metadata": {
        "colab": {
          "base_uri": "https://localhost:8080/"
        },
        "id": "yBYseLZb03VY",
        "outputId": "3ca9bc3d-277a-4f72-e7f5-dad1e8040442"
      },
      "execution_count": null,
      "outputs": [
        {
          "output_type": "stream",
          "name": "stdout",
          "text": [
            "<class 'pandas.core.frame.DataFrame'>\n",
            "DatetimeIndex: 276 entries, 2000-01-01 to 2022-01-12\n",
            "Data columns (total 49 columns):\n",
            " #   Column                                                                                                                      Non-Null Count  Dtype  \n",
            "---  ------                                                                                                                      --------------  -----  \n",
            " 0   Domestic Market (Contract) Blow Molding, Low                                                                                276 non-null    int64  \n",
            " 1   Spot/Export Blow Molding                                                                                                    185 non-null    float64\n",
            " 2   Spot, Domestic                                                                                                              125 non-null    float64\n",
            " 3   WTISPLC                                                                                                                     276 non-null    float64\n",
            " 4   MCOILBRENTEU                                                                                                                276 non-null    float64\n",
            " 5   GASREGM                                                                                                                     276 non-null    float64\n",
            " 6   IMPCH                                                                                                                       275 non-null    float64\n",
            " 7   EXPCH                                                                                                                       275 non-null    float64\n",
            " 8   PRUBBUSDM                                                                                                                   275 non-null    float64\n",
            " 9   WPUFD4111                                                                                                                   275 non-null    float64\n",
            " 10  PCU325211325211                                                                                                             275 non-null    float64\n",
            " 11  PCU32611332611301                                                                                                           275 non-null    float64\n",
            " 12  WPU0915021625                                                                                                               132 non-null    float64\n",
            " 13  PCU3252132521                                                                                                               228 non-null    float64\n",
            " 14  MHHNGSP                                                                                                                     276 non-null    float64\n",
            " 15  WPU072205011                                                                                                                115 non-null    float64\n",
            " 16  PCU32611132611115                                                                                                           115 non-null    float64\n",
            " 17  PCU32611332611301.1                                                                                                         204 non-null    float64\n",
            " 18  PCU32611132611112                                                                                                           115 non-null    float64\n",
            " 19  WPU0915021622                                                                                                               133 non-null    float64\n",
            " 20  Producer Price Index by Industry: Plastics Material and Resins Manufacturing: Thermoplastic Resins and Plastics Materials   276 non-null    float64\n",
            " 21  Australia _export                                                                                                           38 non-null     object \n",
            " 22  Canada_export                                                                                                               154 non-null    object \n",
            " 23  Saudi_export                                                                                                                33 non-null     object \n",
            " 24  Usa_export                                                                                                                  154 non-null    object \n",
            " 25  India_export                                                                                                                142 non-null    object \n",
            " 26  Russia_export                                                                                                               108 non-null    object \n",
            " 27  South_Africa_export                                                                                                         154 non-null    object \n",
            " 28  Turkey                                                                                                                      272 non-null    object \n",
            " 29  Brazil                                                                                                                      275 non-null    object \n",
            " 30  France_export                                                                                                               240 non-null    object \n",
            " 31  Germeny_export                                                                                                              178 non-null    object \n",
            " 32  United Kingdome_export                                                                                                      153 non-null    object \n",
            " 33  China_export                                                                                                                108 non-null    object \n",
            " 34  Australia _import                                                                                                           109 non-null    object \n",
            " 35  Canada_import                                                                                                               154 non-null    object \n",
            " 36  Saudi_import                                                                                                                33 non-null     object \n",
            " 37  Usa_import                                                                                                                  154 non-null    object \n",
            " 38  India_import                                                                                                                142 non-null    object \n",
            " 39  Russia_import                                                                                                               108 non-null    object \n",
            " 40  South_Africa_import                                                                                                         154 non-null    object \n",
            " 41  Turkey_import                                                                                                               168 non-null    object \n",
            " 42  Brazil_import                                                                                                               168 non-null    object \n",
            " 43  France_import                                                                                                               240 non-null    object \n",
            " 44  Germeny_import                                                                                                              178 non-null    object \n",
            " 45  United Kingdome_import                                                                                                      154 non-null    object \n",
            " 46  China_import                                                                                                                108 non-null    object \n",
            " 47  Japan_import                                                                                                                153 non-null    object \n",
            " 48  South_korea_import                                                                                                          0 non-null      float64\n",
            "dtypes: float64(21), int64(1), object(27)\n",
            "memory usage: 107.8+ KB\n"
          ]
        }
      ]
    },
    {
      "cell_type": "code",
      "source": [
        "# count Duplicate values\n",
        "df.duplicated().sum()"
      ],
      "metadata": {
        "colab": {
          "base_uri": "https://localhost:8080/"
        },
        "id": "QigHcPtt2njG",
        "outputId": "bd4f150e-049f-4c74-a45d-e1bf10f8946d"
      },
      "execution_count": null,
      "outputs": [
        {
          "output_type": "execute_result",
          "data": {
            "text/plain": [
              "0"
            ]
          },
          "metadata": {},
          "execution_count": 206
        }
      ]
    },
    {
      "cell_type": "code",
      "source": [
        "# check null values\n",
        "df.isnull().sum()"
      ],
      "metadata": {
        "colab": {
          "base_uri": "https://localhost:8080/"
        },
        "id": "A1fKVL6y21uv",
        "outputId": "b90aa705-d6ca-4234-e05c-e8c14170dd99"
      },
      "execution_count": null,
      "outputs": [
        {
          "output_type": "execute_result",
          "data": {
            "text/plain": [
              "Domestic Market (Contract) Blow Molding, Low                                                                                    0\n",
              "Spot/Export Blow Molding                                                                                                       91\n",
              "Spot, Domestic                                                                                                                151\n",
              "WTISPLC                                                                                                                         0\n",
              "MCOILBRENTEU                                                                                                                    0\n",
              "GASREGM                                                                                                                         0\n",
              "IMPCH                                                                                                                           1\n",
              "EXPCH                                                                                                                           1\n",
              "PRUBBUSDM                                                                                                                       1\n",
              "WPUFD4111                                                                                                                       1\n",
              "PCU325211325211                                                                                                                 1\n",
              "PCU32611332611301                                                                                                               1\n",
              "WPU0915021625                                                                                                                 144\n",
              "PCU3252132521                                                                                                                  48\n",
              "MHHNGSP                                                                                                                         0\n",
              "WPU072205011                                                                                                                  161\n",
              "PCU32611132611115                                                                                                             161\n",
              "PCU32611332611301.1                                                                                                            72\n",
              "PCU32611132611112                                                                                                             161\n",
              "WPU0915021622                                                                                                                 143\n",
              "Producer Price Index by Industry: Plastics Material and Resins Manufacturing: Thermoplastic Resins and Plastics Materials       0\n",
              "Australia _export                                                                                                             238\n",
              "Canada_export                                                                                                                 122\n",
              "Saudi_export                                                                                                                  243\n",
              "Usa_export                                                                                                                    122\n",
              "India_export                                                                                                                  134\n",
              "Russia_export                                                                                                                 168\n",
              "South_Africa_export                                                                                                           122\n",
              "Turkey                                                                                                                          4\n",
              "Brazil                                                                                                                          1\n",
              "France_export                                                                                                                  36\n",
              "Germeny_export                                                                                                                 98\n",
              "United Kingdome_export                                                                                                        123\n",
              "China_export                                                                                                                  168\n",
              "Australia _import                                                                                                             167\n",
              "Canada_import                                                                                                                 122\n",
              "Saudi_import                                                                                                                  243\n",
              "Usa_import                                                                                                                    122\n",
              "India_import                                                                                                                  134\n",
              "Russia_import                                                                                                                 168\n",
              "South_Africa_import                                                                                                           122\n",
              "Turkey_import                                                                                                                 108\n",
              "Brazil_import                                                                                                                 108\n",
              "France_import                                                                                                                  36\n",
              "Germeny_import                                                                                                                 98\n",
              "United Kingdome_import                                                                                                        122\n",
              "China_import                                                                                                                  168\n",
              "Japan_import                                                                                                                  123\n",
              "South_korea_import                                                                                                            276\n",
              "dtype: int64"
            ]
          },
          "metadata": {},
          "execution_count": 207
        }
      ]
    },
    {
      "cell_type": "markdown",
      "source": [
        "# Understand the datast"
      ],
      "metadata": {
        "id": "_fQVdjqa5W3z"
      }
    },
    {
      "cell_type": "code",
      "source": [
        "# WTISPLC - West Texas Intermediate Spot Crude Oil price (West Texas Intermediate (WTI) is a grade or mix of crude oil)\n",
        "# MCOILBRENTEU - Crude Oil Price of Brent Crude (oil market based around the North Sea of Northwest Europe)\n",
        "# GASREGM - US Regular all formation Gas Price\n",
        "# IMPCH -  U.S. Imports of Goods by Customs Basis from China\n",
        "# EXPCH - U.S. Exports of Goods by F.A.S. Basis to Mainland China (EXPCH)\n",
        "# PRUBBUSDM - Global Price of Rubber\n",
        "# WPUFD4111 - Producer Price Index by Commodity: Final Demand: Finished Consumer Foods \n",
        "# PCU325211325211 - Producer Price Index by Industry: Plastics Material and Resin Manufacturing\n",
        "# PCU32611332611301 -  Producer Price Index by Industry: Nonpackaging Plastics Film and Sheet \n",
        "# WPU0915021625 - Producer Price Index by Commodity: Pulp, Paper, and Allied \n",
        "# PCU3252132521 - Producer Price Index by Industry: Resin and Synthetic Rubber Manufacturing\n",
        "# MHHNGSP - Henry Hub Natural Gas Spot Price\n",
        "# WPU072205011 - Rubber and Plastic Products: Unlaminated Polyethylene Film and Sheet\n",
        "# PCU32611132611115 -  Plastics Bag and Pouch Manufacturing: Other Polyethylene Bags, Pouches, and Liners\n",
        "# PCU32611332611301.1 - Nonpackaging Plastics Film and Sheet Manufacturing: Unlaminated Polyethylene Film and Sheet\n",
        "# PCU32611132611112 -  Producer Price Index by Industry: Plastics Bag and Pouch Manufacturing: Polyethylene Refuse Bags\n",
        "# WPU0915021622 -  Pulp, Paper, and Allied Products: Polyethylene Refuse Bags\n"
      ],
      "metadata": {
        "id": "WgKTN88J5WLi"
      },
      "execution_count": null,
      "outputs": []
    },
    {
      "cell_type": "code",
      "source": [],
      "metadata": {
        "id": "0XxtkCOq74d7"
      },
      "execution_count": null,
      "outputs": []
    },
    {
      "cell_type": "markdown",
      "source": [
        "# dataset Preprocessing"
      ],
      "metadata": {
        "id": "L8JwQSnW4SB9"
      }
    },
    {
      "cell_type": "code",
      "source": [
        "#replace null values in 0\n",
        "df.fillna(0,inplace=True)"
      ],
      "metadata": {
        "id": "Yf1hwaz03X8C"
      },
      "execution_count": null,
      "outputs": []
    },
    {
      "cell_type": "code",
      "source": [
        "# Date columns to Date format conversion\n",
        "#date_col = pd.DatetimeIndex(df['Date'])\n",
        "#df['Year'] = date_col.year\n",
        "#df['Month'] = date_col.month\n",
        "#df['Day'] = date_col.day"
      ],
      "metadata": {
        "id": "fEoYcN1Z4mTz"
      },
      "execution_count": null,
      "outputs": []
    },
    {
      "cell_type": "code",
      "source": [
        "df.columns"
      ],
      "metadata": {
        "colab": {
          "base_uri": "https://localhost:8080/"
        },
        "id": "rXvC5qBq6Gad",
        "outputId": "b2ca05f2-d44f-44d8-efa0-f6b19b21eec9"
      },
      "execution_count": null,
      "outputs": [
        {
          "output_type": "execute_result",
          "data": {
            "text/plain": [
              "Index(['Domestic Market (Contract) Blow Molding, Low',\n",
              "       'Spot/Export Blow Molding', 'Spot, Domestic', 'WTISPLC', 'MCOILBRENTEU',\n",
              "       'GASREGM', 'IMPCH', 'EXPCH', 'PRUBBUSDM', 'WPUFD4111',\n",
              "       'PCU325211325211', 'PCU32611332611301', 'WPU0915021625',\n",
              "       'PCU3252132521', 'MHHNGSP', 'WPU072205011', 'PCU32611132611115',\n",
              "       'PCU32611332611301.1', 'PCU32611132611112', 'WPU0915021622',\n",
              "       'Producer Price Index by Industry: Plastics Material and Resins Manufacturing: Thermoplastic Resins and Plastics Materials ',\n",
              "       'Australia _export', 'Canada_export', 'Saudi_export', 'Usa_export',\n",
              "       'India_export', 'Russia_export', 'South_Africa_export', 'Turkey',\n",
              "       'Brazil', 'France_export', 'Germeny_export', 'United Kingdome_export',\n",
              "       'China_export', 'Australia _import', 'Canada_import', 'Saudi_import',\n",
              "       'Usa_import', 'India_import', 'Russia_import', 'South_Africa_import',\n",
              "       'Turkey_import', 'Brazil_import', 'France_import', 'Germeny_import',\n",
              "       'United Kingdome_import', 'China_import', 'Japan_import',\n",
              "       'South_korea_import'],\n",
              "      dtype='object')"
            ]
          },
          "metadata": {},
          "execution_count": 211
        }
      ]
    },
    {
      "cell_type": "code",
      "source": [
        "# remove commas \n",
        "#df = df.replace({',':''}, regex=True)"
      ],
      "metadata": {
        "id": "IJv3KJIH7VLR"
      },
      "execution_count": null,
      "outputs": []
    },
    {
      "cell_type": "code",
      "source": [
        "# replace str to float\n",
        "#df = df.astype(float)"
      ],
      "metadata": {
        "id": "TLsD2k768SqD"
      },
      "execution_count": null,
      "outputs": []
    },
    {
      "cell_type": "code",
      "source": [
        "# float to int\n",
        "#df = df.astype(int)"
      ],
      "metadata": {
        "id": "lLk2_mny8kKq"
      },
      "execution_count": null,
      "outputs": []
    },
    {
      "cell_type": "code",
      "source": [
        "df['Paper_products'] = 0.5*df['WPU0915021625'] + 0.5*df['WPU0915021622']\n",
        "df['Plastics_bags'] = 0.5*df['PCU32611132611115']+0.5*df['PCU32611132611112']\n",
        "df['Non_packing_plastics'] = 0.5*df['PCU32611332611301'] + 0.5*df['PCU32611332611301.1']\n",
        "df['Spot_market'] = 0.6*df['Spot/Export Blow Molding']+0.4*df['Spot, Domestic']\n",
        "df['Rubber_products'] = df['PRUBBUSDM']+df['WPU072205011']+df['PCU3252132521']+df['PCU325211325211']\n",
        "df['Crude_oil'] = 0.5*df['WTISPLC'] + 0.5*df['MCOILBRENTEU']\n"
      ],
      "metadata": {
        "id": "XENaHYVw9O5x"
      },
      "execution_count": null,
      "outputs": []
    },
    {
      "cell_type": "code",
      "source": [
        "# remove unncessary columns or null column\n",
        "df.drop(columns=['WPU0915021625','WPU0915021622','PCU32611132611115','PCU32611132611112','PCU32611332611301','PCU32611332611301','Spot/Export Blow Molding','Spot, Domestic','PRUBBUSDM','WPU072205011','PCU3252132521','PCU325211325211','WTISPLC','MCOILBRENTEU','South_korea_import'],inplace=True)"
      ],
      "metadata": {
        "id": "KFiWTqiiGUwr"
      },
      "execution_count": null,
      "outputs": []
    },
    {
      "cell_type": "code",
      "source": [
        "df['Natural_gas'] = df['GASREGM']+df['MHHNGSP']"
      ],
      "metadata": {
        "id": "degwLUg6Pv18"
      },
      "execution_count": null,
      "outputs": []
    },
    {
      "cell_type": "code",
      "source": [
        "df.drop(columns=['GASREGM','MHHNGSP'],inplace=True)"
      ],
      "metadata": {
        "id": "_f4UXuRVQW5K"
      },
      "execution_count": null,
      "outputs": []
    },
    {
      "cell_type": "code",
      "source": [
        "df.drop(columns=['PCU32611332611301.1'],inplace=True)"
      ],
      "metadata": {
        "id": "3xiO5dSPJuAl"
      },
      "execution_count": null,
      "outputs": []
    },
    {
      "cell_type": "code",
      "source": [
        "df.head()"
      ],
      "metadata": {
        "colab": {
          "base_uri": "https://localhost:8080/",
          "height": 591
        },
        "id": "Je5_JlhyGBh8",
        "outputId": "5feb0121-ad89-4179-c0a8-e7c27755a012"
      },
      "execution_count": null,
      "outputs": [
        {
          "output_type": "execute_result",
          "data": {
            "text/plain": [
              "            Domestic Market (Contract) Blow Molding, Low   IMPCH   EXPCH  \\\n",
              "Date                                                                       \n",
              "2000-01-01                                            41  6902.1   863.1   \n",
              "2000-01-02                                            41  6584.4   972.7   \n",
              "2000-01-03                                            45  6424.1  1330.5   \n",
              "2000-01-04                                            47  7070.5  1227.5   \n",
              "2000-01-05                                            47  7850.2  1526.3   \n",
              "\n",
              "            WPUFD4111  \\\n",
              "Date                    \n",
              "2000-01-01      135.0   \n",
              "2000-01-02      136.0   \n",
              "2000-01-03      136.0   \n",
              "2000-01-04      137.3   \n",
              "2000-01-05      138.2   \n",
              "\n",
              "            Producer Price Index by Industry: Plastics Material and Resins Manufacturing: Thermoplastic Resins and Plastics Materials   \\\n",
              "Date                                                                                                                                     \n",
              "2000-01-01                                              139.4                                                                            \n",
              "2000-01-02                                              141.7                                                                            \n",
              "2000-01-03                                              146.3                                                                            \n",
              "2000-01-04                                              151.4                                                                            \n",
              "2000-01-05                                              155.6                                                                            \n",
              "\n",
              "           Australia _export Canada_export Saudi_export Usa_export  \\\n",
              "Date                                                                 \n",
              "2000-01-01                 0             0            0          0   \n",
              "2000-01-02                 0             0            0          0   \n",
              "2000-01-03                 0             0            0          0   \n",
              "2000-01-04                 0             0            0          0   \n",
              "2000-01-05                 0             0            0          0   \n",
              "\n",
              "           India_export  ... United Kingdome_import China_import Japan_import  \\\n",
              "Date                     ...                                                    \n",
              "2000-01-01            0  ...                      0            0            0   \n",
              "2000-01-02            0  ...                      0            0            0   \n",
              "2000-01-03            0  ...                      0            0            0   \n",
              "2000-01-04            0  ...                      0            0            0   \n",
              "2000-01-05            0  ...                      0            0            0   \n",
              "\n",
              "           Paper_products Plastics_bags Non_packing_plastics Spot_market  \\\n",
              "Date                                                                       \n",
              "2000-01-01            0.0           0.0                106.3         0.0   \n",
              "2000-01-02            0.0           0.0                105.6         0.0   \n",
              "2000-01-03            0.0           0.0                106.1         0.0   \n",
              "2000-01-04            0.0           0.0                106.9         0.0   \n",
              "2000-01-05            0.0           0.0                106.3         0.0   \n",
              "\n",
              "           Rubber_products Crude_oil Natural_gas  \n",
              "Date                                              \n",
              "2000-01-01      187.507387    26.345       3.709  \n",
              "2000-01-02      192.891099    28.565       4.037  \n",
              "2000-01-03      194.141913    28.690       4.306  \n",
              "2000-01-04      196.230148    24.250       4.505  \n",
              "2000-01-05      198.701702    28.260       5.077  \n",
              "\n",
              "[5 rows x 39 columns]"
            ],
            "text/html": [
              "\n",
              "  <div id=\"df-b7058595-4a65-4e82-9195-bd584f2e45e3\">\n",
              "    <div class=\"colab-df-container\">\n",
              "      <div>\n",
              "<style scoped>\n",
              "    .dataframe tbody tr th:only-of-type {\n",
              "        vertical-align: middle;\n",
              "    }\n",
              "\n",
              "    .dataframe tbody tr th {\n",
              "        vertical-align: top;\n",
              "    }\n",
              "\n",
              "    .dataframe thead th {\n",
              "        text-align: right;\n",
              "    }\n",
              "</style>\n",
              "<table border=\"1\" class=\"dataframe\">\n",
              "  <thead>\n",
              "    <tr style=\"text-align: right;\">\n",
              "      <th></th>\n",
              "      <th>Domestic Market (Contract) Blow Molding, Low</th>\n",
              "      <th>IMPCH</th>\n",
              "      <th>EXPCH</th>\n",
              "      <th>WPUFD4111</th>\n",
              "      <th>Producer Price Index by Industry: Plastics Material and Resins Manufacturing: Thermoplastic Resins and Plastics Materials</th>\n",
              "      <th>Australia _export</th>\n",
              "      <th>Canada_export</th>\n",
              "      <th>Saudi_export</th>\n",
              "      <th>Usa_export</th>\n",
              "      <th>India_export</th>\n",
              "      <th>...</th>\n",
              "      <th>United Kingdome_import</th>\n",
              "      <th>China_import</th>\n",
              "      <th>Japan_import</th>\n",
              "      <th>Paper_products</th>\n",
              "      <th>Plastics_bags</th>\n",
              "      <th>Non_packing_plastics</th>\n",
              "      <th>Spot_market</th>\n",
              "      <th>Rubber_products</th>\n",
              "      <th>Crude_oil</th>\n",
              "      <th>Natural_gas</th>\n",
              "    </tr>\n",
              "    <tr>\n",
              "      <th>Date</th>\n",
              "      <th></th>\n",
              "      <th></th>\n",
              "      <th></th>\n",
              "      <th></th>\n",
              "      <th></th>\n",
              "      <th></th>\n",
              "      <th></th>\n",
              "      <th></th>\n",
              "      <th></th>\n",
              "      <th></th>\n",
              "      <th></th>\n",
              "      <th></th>\n",
              "      <th></th>\n",
              "      <th></th>\n",
              "      <th></th>\n",
              "      <th></th>\n",
              "      <th></th>\n",
              "      <th></th>\n",
              "      <th></th>\n",
              "      <th></th>\n",
              "      <th></th>\n",
              "    </tr>\n",
              "  </thead>\n",
              "  <tbody>\n",
              "    <tr>\n",
              "      <th>2000-01-01</th>\n",
              "      <td>41</td>\n",
              "      <td>6902.1</td>\n",
              "      <td>863.1</td>\n",
              "      <td>135.0</td>\n",
              "      <td>139.4</td>\n",
              "      <td>0</td>\n",
              "      <td>0</td>\n",
              "      <td>0</td>\n",
              "      <td>0</td>\n",
              "      <td>0</td>\n",
              "      <td>...</td>\n",
              "      <td>0</td>\n",
              "      <td>0</td>\n",
              "      <td>0</td>\n",
              "      <td>0.0</td>\n",
              "      <td>0.0</td>\n",
              "      <td>106.3</td>\n",
              "      <td>0.0</td>\n",
              "      <td>187.507387</td>\n",
              "      <td>26.345</td>\n",
              "      <td>3.709</td>\n",
              "    </tr>\n",
              "    <tr>\n",
              "      <th>2000-01-02</th>\n",
              "      <td>41</td>\n",
              "      <td>6584.4</td>\n",
              "      <td>972.7</td>\n",
              "      <td>136.0</td>\n",
              "      <td>141.7</td>\n",
              "      <td>0</td>\n",
              "      <td>0</td>\n",
              "      <td>0</td>\n",
              "      <td>0</td>\n",
              "      <td>0</td>\n",
              "      <td>...</td>\n",
              "      <td>0</td>\n",
              "      <td>0</td>\n",
              "      <td>0</td>\n",
              "      <td>0.0</td>\n",
              "      <td>0.0</td>\n",
              "      <td>105.6</td>\n",
              "      <td>0.0</td>\n",
              "      <td>192.891099</td>\n",
              "      <td>28.565</td>\n",
              "      <td>4.037</td>\n",
              "    </tr>\n",
              "    <tr>\n",
              "      <th>2000-01-03</th>\n",
              "      <td>45</td>\n",
              "      <td>6424.1</td>\n",
              "      <td>1330.5</td>\n",
              "      <td>136.0</td>\n",
              "      <td>146.3</td>\n",
              "      <td>0</td>\n",
              "      <td>0</td>\n",
              "      <td>0</td>\n",
              "      <td>0</td>\n",
              "      <td>0</td>\n",
              "      <td>...</td>\n",
              "      <td>0</td>\n",
              "      <td>0</td>\n",
              "      <td>0</td>\n",
              "      <td>0.0</td>\n",
              "      <td>0.0</td>\n",
              "      <td>106.1</td>\n",
              "      <td>0.0</td>\n",
              "      <td>194.141913</td>\n",
              "      <td>28.690</td>\n",
              "      <td>4.306</td>\n",
              "    </tr>\n",
              "    <tr>\n",
              "      <th>2000-01-04</th>\n",
              "      <td>47</td>\n",
              "      <td>7070.5</td>\n",
              "      <td>1227.5</td>\n",
              "      <td>137.3</td>\n",
              "      <td>151.4</td>\n",
              "      <td>0</td>\n",
              "      <td>0</td>\n",
              "      <td>0</td>\n",
              "      <td>0</td>\n",
              "      <td>0</td>\n",
              "      <td>...</td>\n",
              "      <td>0</td>\n",
              "      <td>0</td>\n",
              "      <td>0</td>\n",
              "      <td>0.0</td>\n",
              "      <td>0.0</td>\n",
              "      <td>106.9</td>\n",
              "      <td>0.0</td>\n",
              "      <td>196.230148</td>\n",
              "      <td>24.250</td>\n",
              "      <td>4.505</td>\n",
              "    </tr>\n",
              "    <tr>\n",
              "      <th>2000-01-05</th>\n",
              "      <td>47</td>\n",
              "      <td>7850.2</td>\n",
              "      <td>1526.3</td>\n",
              "      <td>138.2</td>\n",
              "      <td>155.6</td>\n",
              "      <td>0</td>\n",
              "      <td>0</td>\n",
              "      <td>0</td>\n",
              "      <td>0</td>\n",
              "      <td>0</td>\n",
              "      <td>...</td>\n",
              "      <td>0</td>\n",
              "      <td>0</td>\n",
              "      <td>0</td>\n",
              "      <td>0.0</td>\n",
              "      <td>0.0</td>\n",
              "      <td>106.3</td>\n",
              "      <td>0.0</td>\n",
              "      <td>198.701702</td>\n",
              "      <td>28.260</td>\n",
              "      <td>5.077</td>\n",
              "    </tr>\n",
              "  </tbody>\n",
              "</table>\n",
              "<p>5 rows × 39 columns</p>\n",
              "</div>\n",
              "      <button class=\"colab-df-convert\" onclick=\"convertToInteractive('df-b7058595-4a65-4e82-9195-bd584f2e45e3')\"\n",
              "              title=\"Convert this dataframe to an interactive table.\"\n",
              "              style=\"display:none;\">\n",
              "        \n",
              "  <svg xmlns=\"http://www.w3.org/2000/svg\" height=\"24px\"viewBox=\"0 0 24 24\"\n",
              "       width=\"24px\">\n",
              "    <path d=\"M0 0h24v24H0V0z\" fill=\"none\"/>\n",
              "    <path d=\"M18.56 5.44l.94 2.06.94-2.06 2.06-.94-2.06-.94-.94-2.06-.94 2.06-2.06.94zm-11 1L8.5 8.5l.94-2.06 2.06-.94-2.06-.94L8.5 2.5l-.94 2.06-2.06.94zm10 10l.94 2.06.94-2.06 2.06-.94-2.06-.94-.94-2.06-.94 2.06-2.06.94z\"/><path d=\"M17.41 7.96l-1.37-1.37c-.4-.4-.92-.59-1.43-.59-.52 0-1.04.2-1.43.59L10.3 9.45l-7.72 7.72c-.78.78-.78 2.05 0 2.83L4 21.41c.39.39.9.59 1.41.59.51 0 1.02-.2 1.41-.59l7.78-7.78 2.81-2.81c.8-.78.8-2.07 0-2.86zM5.41 20L4 18.59l7.72-7.72 1.47 1.35L5.41 20z\"/>\n",
              "  </svg>\n",
              "      </button>\n",
              "      \n",
              "  <style>\n",
              "    .colab-df-container {\n",
              "      display:flex;\n",
              "      flex-wrap:wrap;\n",
              "      gap: 12px;\n",
              "    }\n",
              "\n",
              "    .colab-df-convert {\n",
              "      background-color: #E8F0FE;\n",
              "      border: none;\n",
              "      border-radius: 50%;\n",
              "      cursor: pointer;\n",
              "      display: none;\n",
              "      fill: #1967D2;\n",
              "      height: 32px;\n",
              "      padding: 0 0 0 0;\n",
              "      width: 32px;\n",
              "    }\n",
              "\n",
              "    .colab-df-convert:hover {\n",
              "      background-color: #E2EBFA;\n",
              "      box-shadow: 0px 1px 2px rgba(60, 64, 67, 0.3), 0px 1px 3px 1px rgba(60, 64, 67, 0.15);\n",
              "      fill: #174EA6;\n",
              "    }\n",
              "\n",
              "    [theme=dark] .colab-df-convert {\n",
              "      background-color: #3B4455;\n",
              "      fill: #D2E3FC;\n",
              "    }\n",
              "\n",
              "    [theme=dark] .colab-df-convert:hover {\n",
              "      background-color: #434B5C;\n",
              "      box-shadow: 0px 1px 3px 1px rgba(0, 0, 0, 0.15);\n",
              "      filter: drop-shadow(0px 1px 2px rgba(0, 0, 0, 0.3));\n",
              "      fill: #FFFFFF;\n",
              "    }\n",
              "  </style>\n",
              "\n",
              "      <script>\n",
              "        const buttonEl =\n",
              "          document.querySelector('#df-b7058595-4a65-4e82-9195-bd584f2e45e3 button.colab-df-convert');\n",
              "        buttonEl.style.display =\n",
              "          google.colab.kernel.accessAllowed ? 'block' : 'none';\n",
              "\n",
              "        async function convertToInteractive(key) {\n",
              "          const element = document.querySelector('#df-b7058595-4a65-4e82-9195-bd584f2e45e3');\n",
              "          const dataTable =\n",
              "            await google.colab.kernel.invokeFunction('convertToInteractive',\n",
              "                                                     [key], {});\n",
              "          if (!dataTable) return;\n",
              "\n",
              "          const docLinkHtml = 'Like what you see? Visit the ' +\n",
              "            '<a target=\"_blank\" href=https://colab.research.google.com/notebooks/data_table.ipynb>data table notebook</a>'\n",
              "            + ' to learn more about interactive tables.';\n",
              "          element.innerHTML = '';\n",
              "          dataTable['output_type'] = 'display_data';\n",
              "          await google.colab.output.renderOutput(dataTable, element);\n",
              "          const docLink = document.createElement('div');\n",
              "          docLink.innerHTML = docLinkHtml;\n",
              "          element.appendChild(docLink);\n",
              "        }\n",
              "      </script>\n",
              "    </div>\n",
              "  </div>\n",
              "  "
            ]
          },
          "metadata": {},
          "execution_count": 217
        }
      ]
    },
    {
      "cell_type": "markdown",
      "source": [
        "# Check Multicolinearity using VIF"
      ],
      "metadata": {
        "id": "lFlRVBxsHm_t"
      }
    },
    {
      "cell_type": "code",
      "source": [
        "from statsmodels.stats.outliers_influence import variance_inflation_factor\n",
        "def calc_vif(X):\n",
        "\n",
        "    # Calculating VIF\n",
        "    vif = pd.DataFrame()\n",
        "    vif[\"variables\"] = X.columns\n",
        "    vif[\"VIF\"] = [variance_inflation_factor(X.values, i) for i in range(X.shape[1])]\n",
        "\n",
        "    return(vif)\n"
      ],
      "metadata": {
        "id": "BphVA9OnHu_4"
      },
      "execution_count": null,
      "outputs": []
    },
    {
      "cell_type": "code",
      "source": [
        "calc_vif(df[[i for i in df.describe().columns if i not in ['MHHNGSP','GASREGM','Date','Domestic Market (Contract) Blow Molding, Low','Year','Month','Day','Producer Price Index by Industry: Plastics Material and Resins Manufacturing: Thermoplastic Resins and Plastics Materials']]])"
      ],
      "metadata": {
        "colab": {
          "base_uri": "https://localhost:8080/",
          "height": 394
        },
        "id": "qDq5RM6HIT4a",
        "outputId": "4b199800-4542-4cf5-cbb5-c8d2a9378fde"
      },
      "execution_count": null,
      "outputs": [
        {
          "output_type": "execute_result",
          "data": {
            "text/plain": [
              "                                            variables         VIF\n",
              "0                                               IMPCH   62.281230\n",
              "1                                               EXPCH   53.891251\n",
              "2                                           WPUFD4111   92.450676\n",
              "3   Producer Price Index by Industry: Plastics Mat...  172.228490\n",
              "4                                      Paper_products   16.167110\n",
              "5                                       Plastics_bags   18.328050\n",
              "6                                Non_packing_plastics   17.308598\n",
              "7                                         Spot_market   11.553749\n",
              "8                                     Rubber_products  171.143408\n",
              "9                                           Crude_oil   40.300607\n",
              "10                                        Natural_gas   30.866165"
            ],
            "text/html": [
              "\n",
              "  <div id=\"df-3f381c39-2699-4be3-bf83-62c011612aa3\">\n",
              "    <div class=\"colab-df-container\">\n",
              "      <div>\n",
              "<style scoped>\n",
              "    .dataframe tbody tr th:only-of-type {\n",
              "        vertical-align: middle;\n",
              "    }\n",
              "\n",
              "    .dataframe tbody tr th {\n",
              "        vertical-align: top;\n",
              "    }\n",
              "\n",
              "    .dataframe thead th {\n",
              "        text-align: right;\n",
              "    }\n",
              "</style>\n",
              "<table border=\"1\" class=\"dataframe\">\n",
              "  <thead>\n",
              "    <tr style=\"text-align: right;\">\n",
              "      <th></th>\n",
              "      <th>variables</th>\n",
              "      <th>VIF</th>\n",
              "    </tr>\n",
              "  </thead>\n",
              "  <tbody>\n",
              "    <tr>\n",
              "      <th>0</th>\n",
              "      <td>IMPCH</td>\n",
              "      <td>62.281230</td>\n",
              "    </tr>\n",
              "    <tr>\n",
              "      <th>1</th>\n",
              "      <td>EXPCH</td>\n",
              "      <td>53.891251</td>\n",
              "    </tr>\n",
              "    <tr>\n",
              "      <th>2</th>\n",
              "      <td>WPUFD4111</td>\n",
              "      <td>92.450676</td>\n",
              "    </tr>\n",
              "    <tr>\n",
              "      <th>3</th>\n",
              "      <td>Producer Price Index by Industry: Plastics Mat...</td>\n",
              "      <td>172.228490</td>\n",
              "    </tr>\n",
              "    <tr>\n",
              "      <th>4</th>\n",
              "      <td>Paper_products</td>\n",
              "      <td>16.167110</td>\n",
              "    </tr>\n",
              "    <tr>\n",
              "      <th>5</th>\n",
              "      <td>Plastics_bags</td>\n",
              "      <td>18.328050</td>\n",
              "    </tr>\n",
              "    <tr>\n",
              "      <th>6</th>\n",
              "      <td>Non_packing_plastics</td>\n",
              "      <td>17.308598</td>\n",
              "    </tr>\n",
              "    <tr>\n",
              "      <th>7</th>\n",
              "      <td>Spot_market</td>\n",
              "      <td>11.553749</td>\n",
              "    </tr>\n",
              "    <tr>\n",
              "      <th>8</th>\n",
              "      <td>Rubber_products</td>\n",
              "      <td>171.143408</td>\n",
              "    </tr>\n",
              "    <tr>\n",
              "      <th>9</th>\n",
              "      <td>Crude_oil</td>\n",
              "      <td>40.300607</td>\n",
              "    </tr>\n",
              "    <tr>\n",
              "      <th>10</th>\n",
              "      <td>Natural_gas</td>\n",
              "      <td>30.866165</td>\n",
              "    </tr>\n",
              "  </tbody>\n",
              "</table>\n",
              "</div>\n",
              "      <button class=\"colab-df-convert\" onclick=\"convertToInteractive('df-3f381c39-2699-4be3-bf83-62c011612aa3')\"\n",
              "              title=\"Convert this dataframe to an interactive table.\"\n",
              "              style=\"display:none;\">\n",
              "        \n",
              "  <svg xmlns=\"http://www.w3.org/2000/svg\" height=\"24px\"viewBox=\"0 0 24 24\"\n",
              "       width=\"24px\">\n",
              "    <path d=\"M0 0h24v24H0V0z\" fill=\"none\"/>\n",
              "    <path d=\"M18.56 5.44l.94 2.06.94-2.06 2.06-.94-2.06-.94-.94-2.06-.94 2.06-2.06.94zm-11 1L8.5 8.5l.94-2.06 2.06-.94-2.06-.94L8.5 2.5l-.94 2.06-2.06.94zm10 10l.94 2.06.94-2.06 2.06-.94-2.06-.94-.94-2.06-.94 2.06-2.06.94z\"/><path d=\"M17.41 7.96l-1.37-1.37c-.4-.4-.92-.59-1.43-.59-.52 0-1.04.2-1.43.59L10.3 9.45l-7.72 7.72c-.78.78-.78 2.05 0 2.83L4 21.41c.39.39.9.59 1.41.59.51 0 1.02-.2 1.41-.59l7.78-7.78 2.81-2.81c.8-.78.8-2.07 0-2.86zM5.41 20L4 18.59l7.72-7.72 1.47 1.35L5.41 20z\"/>\n",
              "  </svg>\n",
              "      </button>\n",
              "      \n",
              "  <style>\n",
              "    .colab-df-container {\n",
              "      display:flex;\n",
              "      flex-wrap:wrap;\n",
              "      gap: 12px;\n",
              "    }\n",
              "\n",
              "    .colab-df-convert {\n",
              "      background-color: #E8F0FE;\n",
              "      border: none;\n",
              "      border-radius: 50%;\n",
              "      cursor: pointer;\n",
              "      display: none;\n",
              "      fill: #1967D2;\n",
              "      height: 32px;\n",
              "      padding: 0 0 0 0;\n",
              "      width: 32px;\n",
              "    }\n",
              "\n",
              "    .colab-df-convert:hover {\n",
              "      background-color: #E2EBFA;\n",
              "      box-shadow: 0px 1px 2px rgba(60, 64, 67, 0.3), 0px 1px 3px 1px rgba(60, 64, 67, 0.15);\n",
              "      fill: #174EA6;\n",
              "    }\n",
              "\n",
              "    [theme=dark] .colab-df-convert {\n",
              "      background-color: #3B4455;\n",
              "      fill: #D2E3FC;\n",
              "    }\n",
              "\n",
              "    [theme=dark] .colab-df-convert:hover {\n",
              "      background-color: #434B5C;\n",
              "      box-shadow: 0px 1px 3px 1px rgba(0, 0, 0, 0.15);\n",
              "      filter: drop-shadow(0px 1px 2px rgba(0, 0, 0, 0.3));\n",
              "      fill: #FFFFFF;\n",
              "    }\n",
              "  </style>\n",
              "\n",
              "      <script>\n",
              "        const buttonEl =\n",
              "          document.querySelector('#df-3f381c39-2699-4be3-bf83-62c011612aa3 button.colab-df-convert');\n",
              "        buttonEl.style.display =\n",
              "          google.colab.kernel.accessAllowed ? 'block' : 'none';\n",
              "\n",
              "        async function convertToInteractive(key) {\n",
              "          const element = document.querySelector('#df-3f381c39-2699-4be3-bf83-62c011612aa3');\n",
              "          const dataTable =\n",
              "            await google.colab.kernel.invokeFunction('convertToInteractive',\n",
              "                                                     [key], {});\n",
              "          if (!dataTable) return;\n",
              "\n",
              "          const docLinkHtml = 'Like what you see? Visit the ' +\n",
              "            '<a target=\"_blank\" href=https://colab.research.google.com/notebooks/data_table.ipynb>data table notebook</a>'\n",
              "            + ' to learn more about interactive tables.';\n",
              "          element.innerHTML = '';\n",
              "          dataTable['output_type'] = 'display_data';\n",
              "          await google.colab.output.renderOutput(dataTable, element);\n",
              "          const docLink = document.createElement('div');\n",
              "          docLink.innerHTML = docLinkHtml;\n",
              "          element.appendChild(docLink);\n",
              "        }\n",
              "      </script>\n",
              "    </div>\n",
              "  </div>\n",
              "  "
            ]
          },
          "metadata": {},
          "execution_count": 218
        }
      ]
    },
    {
      "cell_type": "code",
      "source": [
        "df = df.replace({',':''}, regex=True)"
      ],
      "metadata": {
        "id": "aOBSd1ASewdx"
      },
      "execution_count": null,
      "outputs": []
    },
    {
      "cell_type": "code",
      "source": [
        "df = df.astype(float)"
      ],
      "metadata": {
        "id": "0ZuxWdsUKMHY"
      },
      "execution_count": null,
      "outputs": []
    },
    {
      "cell_type": "code",
      "source": [
        "df = df.astype(int)"
      ],
      "metadata": {
        "id": "5mq26WziL80R"
      },
      "execution_count": null,
      "outputs": []
    },
    {
      "cell_type": "code",
      "source": [
        "df.shape"
      ],
      "metadata": {
        "colab": {
          "base_uri": "https://localhost:8080/"
        },
        "id": "dw2fTTalMCgr",
        "outputId": "884c9f43-85b8-4e0b-d185-a2c3d790ad15"
      },
      "execution_count": null,
      "outputs": [
        {
          "output_type": "execute_result",
          "data": {
            "text/plain": [
              "(276, 39)"
            ]
          },
          "metadata": {},
          "execution_count": 222
        }
      ]
    },
    {
      "cell_type": "markdown",
      "source": [
        "# ARIMA = Autoregressive integrated moving average"
      ],
      "metadata": {
        "id": "2dwjSuRIQ2iq"
      }
    },
    {
      "cell_type": "code",
      "source": [
        "from statsmodels.tsa.arima_model import ARIMA"
      ],
      "metadata": {
        "id": "oprKaOxmMXI6"
      },
      "execution_count": null,
      "outputs": []
    },
    {
      "cell_type": "code",
      "source": [
        "sns.lineplot(data=df,y='Date',x=\"Domestic Market (Contract) Blow Molding, Low\")"
      ],
      "metadata": {
        "colab": {
          "base_uri": "https://localhost:8080/",
          "height": 466
        },
        "id": "6sj5aAA1SLf0",
        "outputId": "76784ba9-19f6-4a42-db34-0e1e7da12691"
      },
      "execution_count": null,
      "outputs": [
        {
          "output_type": "execute_result",
          "data": {
            "text/plain": [
              "<Axes: xlabel='Domestic Market (Contract) Blow Molding, Low', ylabel='Date'>"
            ]
          },
          "metadata": {},
          "execution_count": 224
        },
        {
          "output_type": "display_data",
          "data": {
            "text/plain": [
              "<Figure size 640x480 with 1 Axes>"
            ],
            "image/png": "[encoded data removed]"
          },
          "metadata": {}
        }
      ]
    },
    {
      "cell_type": "code",
      "source": [],
      "metadata": {
        "id": "p0rofiOCc7tv"
      },
      "execution_count": null,
      "outputs": []
    },
    {
      "cell_type": "code",
      "source": [
        "#sns.lineplot(data=df,x='Year',y=\"Domestic Market (Contract) Blow Molding, Low\")"
      ],
      "metadata": {
        "id": "iS4hkpHDSmWn"
      },
      "execution_count": null,
      "outputs": []
    },
    {
      "cell_type": "code",
      "source": [
        "from statsmodels.tsa.stattools import adfuller"
      ],
      "metadata": {
        "id": "nMo5TUbLaeaa"
      },
      "execution_count": null,
      "outputs": []
    },
    {
      "cell_type": "code",
      "source": [
        "def ad_test(df):\n",
        "  dftest = adfuller(df, autolag='AIC')\n",
        "  print(\"1. ADF : \", dftest[0])\n",
        "  print(\"2. P-Value : \", dftest[1])\n",
        "  print(\"3. Num of Lags : \", dftest[2])\n",
        "  print(\"4. Num of observations used for ADF Regression and Critical Values Calculation :\", dftest[3])\n",
        "  print(\"5. Critical Values :\")\n",
        "  for key, val in dftest[4].items():\n",
        "    print(\"\\t\",key, \": \",val)"
      ],
      "metadata": {
        "id": "LOn9vzYLfRHI"
      },
      "execution_count": null,
      "outputs": []
    },
    {
      "cell_type": "code",
      "source": [
        "ad_test(df['Domestic Market (Contract) Blow Molding, Low'])"
      ],
      "metadata": {
        "colab": {
          "base_uri": "https://localhost:8080/"
        },
        "id": "CodydtYug6G4",
        "outputId": "8237b9b8-31ec-4b2b-e1fd-24bc50711bc7"
      },
      "execution_count": null,
      "outputs": [
        {
          "output_type": "stream",
          "name": "stdout",
          "text": [
            "1. ADF :  -2.2397167676431793\n",
            "2. P-Value :  0.19214751697964344\n",
            "3. Num of Lags :  4\n",
            "4. Num of observations used for ADF Regression and Critical Values Calculation : 271\n",
            "5. Critical Values :\n",
            "\t 1% :  -3.4547128138328875\n",
            "\t 5% :  -2.8722649771800155\n",
            "\t 10% :  -2.5724850011573914\n"
          ]
        }
      ]
    },
    {
      "cell_type": "code",
      "source": [
        "from pmdarima import auto_arima"
      ],
      "metadata": {
        "id": "KQzjQ6kKhw5Z"
      },
      "execution_count": null,
      "outputs": []
    },
    {
      "cell_type": "code",
      "source": [
        "stepwise_fit = auto_arima(df['Domestic Market (Contract) Blow Molding, Low'],trace=True,\n",
        "                          suppress_warnings=True)\n",
        "stepwise_fit.summary()"
      ],
      "metadata": {
        "colab": {
          "base_uri": "https://localhost:8080/",
          "height": 884
        },
        "id": "s1VS3N7riVqn",
        "outputId": "72044b61-3384-4a24-c34d-063418adbd9f"
      },
      "execution_count": null,
      "outputs": [
        {
          "output_type": "stream",
          "name": "stdout",
          "text": [
            "Performing stepwise search to minimize aic\n",
            " ARIMA(2,1,2)(0,0,0)[0] intercept   : AIC=1528.879, Time=1.04 sec\n",
            " ARIMA(0,1,0)(0,0,0)[0] intercept   : AIC=1577.723, Time=0.10 sec\n",
            " ARIMA(1,1,0)(0,0,0)[0] intercept   : AIC=1531.985, Time=0.16 sec\n",
            " ARIMA(0,1,1)(0,0,0)[0] intercept   : AIC=1536.850, Time=0.32 sec\n",
            " ARIMA(0,1,0)(0,0,0)[0]             : AIC=1576.211, Time=0.10 sec\n",
            " ARIMA(1,1,2)(0,0,0)[0] intercept   : AIC=1534.583, Time=0.85 sec\n",
            " ARIMA(2,1,1)(0,0,0)[0] intercept   : AIC=1526.139, Time=1.55 sec\n",
            " ARIMA(1,1,1)(0,0,0)[0] intercept   : AIC=1533.679, Time=0.21 sec\n",
            " ARIMA(2,1,0)(0,0,0)[0] intercept   : AIC=1533.519, Time=0.14 sec\n",
            " ARIMA(3,1,1)(0,0,0)[0] intercept   : AIC=1530.104, Time=0.31 sec\n",
            " ARIMA(3,1,0)(0,0,0)[0] intercept   : AIC=1531.870, Time=0.16 sec\n",
            " ARIMA(3,1,2)(0,0,0)[0] intercept   : AIC=1530.878, Time=0.77 sec\n",
            " ARIMA(2,1,1)(0,0,0)[0]             : AIC=1526.049, Time=0.67 sec\n",
            " ARIMA(1,1,1)(0,0,0)[0]             : AIC=1531.897, Time=0.12 sec\n",
            " ARIMA(2,1,0)(0,0,0)[0]             : AIC=1531.743, Time=0.11 sec\n",
            " ARIMA(3,1,1)(0,0,0)[0]             : AIC=1528.498, Time=0.47 sec\n",
            " ARIMA(2,1,2)(0,0,0)[0]             : AIC=1527.221, Time=0.35 sec\n",
            " ARIMA(1,1,0)(0,0,0)[0]             : AIC=1530.193, Time=0.06 sec\n",
            " ARIMA(1,1,2)(0,0,0)[0]             : AIC=1532.797, Time=0.18 sec\n",
            " ARIMA(3,1,0)(0,0,0)[0]             : AIC=1530.145, Time=0.12 sec\n",
            " ARIMA(3,1,2)(0,0,0)[0]             : AIC=1529.221, Time=0.48 sec\n",
            "\n",
            "Best model:  ARIMA(2,1,1)(0,0,0)[0]          \n",
            "Total fit time: 8.390 seconds\n"
          ]
        },
        {
          "output_type": "execute_result",
          "data": {
            "text/plain": [
              "<class 'statsmodels.iolib.summary.Summary'>\n",
              "\"\"\"\n",
              "                               SARIMAX Results                                \n",
              "==============================================================================\n",
              "Dep. Variable:                      y   No. Observations:                  276\n",
              "Model:               SARIMAX(2, 1, 1)   Log Likelihood                -759.024\n",
              "Date:                Wed, 03 May 2023   AIC                           1526.049\n",
              "Time:                        18:15:33   BIC                           1540.516\n",
              "Sample:                             0   HQIC                          1531.855\n",
              "                                - 276                                         \n",
              "Covariance Type:                  opg                                         \n",
              "==============================================================================\n",
              "                 coef    std err          z      P>|z|      [0.025      0.975]\n",
              "------------------------------------------------------------------------------\n",
              "ar.L1          1.3458      0.047     28.542      0.000       1.253       1.438\n",
              "ar.L2         -0.4276      0.035    -12.340      0.000      -0.495      -0.360\n",
              "ma.L1         -0.9514      0.045    -21.259      0.000      -1.039      -0.864\n",
              "sigma2        14.5934      0.405     36.001      0.000      13.799      15.388\n",
              "===================================================================================\n",
              "Ljung-Box (L1) (Q):                   0.05   Jarque-Bera (JB):              5888.45\n",
              "Prob(Q):                              0.83   Prob(JB):                         0.00\n",
              "Heteroskedasticity (H):               2.57   Skew:                            -3.01\n",
              "Prob(H) (two-sided):                  0.00   Kurtosis:                        24.86\n",
              "===================================================================================\n",
              "\n",
              "Warnings:\n",
              "[1] Covariance matrix calculated using the outer product of gradients (complex-step).\n",
              "\"\"\""
            ],
            "text/html": [
              "<table class=\"simpletable\">\n",
              "<caption>SARIMAX Results</caption>\n",
              "<tr>\n",
              "  <th>Dep. Variable:</th>           <td>y</td>        <th>  No. Observations:  </th>    <td>276</td>  \n",
              "</tr>\n",
              "<tr>\n",
              "  <th>Model:</th>           <td>SARIMAX(2, 1, 1)</td> <th>  Log Likelihood     </th> <td>-759.024</td>\n",
              "</tr>\n",
              "<tr>\n",
              "  <th>Date:</th>            <td>Wed, 03 May 2023</td> <th>  AIC                </th> <td>1526.049</td>\n",
              "</tr>\n",
              "<tr>\n",
              "  <th>Time:</th>                <td>18:15:33</td>     <th>  BIC                </th> <td>1540.516</td>\n",
              "</tr>\n",
              "<tr>\n",
              "  <th>Sample:</th>                  <td>0</td>        <th>  HQIC               </th> <td>1531.855</td>\n",
              "</tr>\n",
              "<tr>\n",
              "  <th></th>                      <td> - 276</td>      <th>                     </th>     <td> </td>   \n",
              "</tr>\n",
              "<tr>\n",
              "  <th>Covariance Type:</th>        <td>opg</td>       <th>                     </th>     <td> </td>   \n",
              "</tr>\n",
              "</table>\n",
              "<table class=\"simpletable\">\n",
              "<tr>\n",
              "     <td></td>       <th>coef</th>     <th>std err</th>      <th>z</th>      <th>P>|z|</th>  <th>[0.025</th>    <th>0.975]</th>  \n",
              "</tr>\n",
              "<tr>\n",
              "  <th>ar.L1</th>  <td>    1.3458</td> <td>    0.047</td> <td>   28.542</td> <td> 0.000</td> <td>    1.253</td> <td>    1.438</td>\n",
              "</tr>\n",
              "<tr>\n",
              "  <th>ar.L2</th>  <td>   -0.4276</td> <td>    0.035</td> <td>  -12.340</td> <td> 0.000</td> <td>   -0.495</td> <td>   -0.360</td>\n",
              "</tr>\n",
              "<tr>\n",
              "  <th>ma.L1</th>  <td>   -0.9514</td> <td>    0.045</td> <td>  -21.259</td> <td> 0.000</td> <td>   -1.039</td> <td>   -0.864</td>\n",
              "</tr>\n",
              "<tr>\n",
              "  <th>sigma2</th> <td>   14.5934</td> <td>    0.405</td> <td>   36.001</td> <td> 0.000</td> <td>   13.799</td> <td>   15.388</td>\n",
              "</tr>\n",
              "</table>\n",
              "<table class=\"simpletable\">\n",
              "<tr>\n",
              "  <th>Ljung-Box (L1) (Q):</th>     <td>0.05</td> <th>  Jarque-Bera (JB):  </th> <td>5888.45</td>\n",
              "</tr>\n",
              "<tr>\n",
              "  <th>Prob(Q):</th>                <td>0.83</td> <th>  Prob(JB):          </th>  <td>0.00</td>  \n",
              "</tr>\n",
              "<tr>\n",
              "  <th>Heteroskedasticity (H):</th> <td>2.57</td> <th>  Skew:              </th>  <td>-3.01</td> \n",
              "</tr>\n",
              "<tr>\n",
              "  <th>Prob(H) (two-sided):</th>    <td>0.00</td> <th>  Kurtosis:          </th>  <td>24.86</td> \n",
              "</tr>\n",
              "</table><br/><br/>Warnings:<br/>[1] Covariance matrix calculated using the outer product of gradients (complex-step)."
            ]
          },
          "metadata": {},
          "execution_count": 229
        }
      ]
    },
    {
      "cell_type": "code",
      "source": [
        "train = df.iloc[:-30]\n",
        "test = df.iloc[-30:]\n",
        "print(train.shape,test.shape)"
      ],
      "metadata": {
        "colab": {
          "base_uri": "https://localhost:8080/"
        },
        "id": "f3SYxxlhlSKv",
        "outputId": "e3bf4d85-e94a-461e-ed1b-530296175788"
      },
      "execution_count": null,
      "outputs": [
        {
          "output_type": "stream",
          "name": "stdout",
          "text": [
            "(246, 39) (30, 39)\n"
          ]
        }
      ]
    },
    {
      "cell_type": "markdown",
      "source": [
        "# train the model"
      ],
      "metadata": {
        "id": "o1bqNv-5mCot"
      }
    },
    {
      "cell_type": "code",
      "source": [
        "from statsmodels.tsa.arima.model import ARIMA"
      ],
      "metadata": {
        "id": "w1SCEeM91twr"
      },
      "execution_count": null,
      "outputs": []
    },
    {
      "cell_type": "code",
      "source": [
        "model = ARIMA(train['Domestic Market (Contract) Blow Molding, Low'],order=(1,0,5))\n",
        "model = model.fit()\n",
        "model.summary()"
      ],
      "metadata": {
        "colab": {
          "base_uri": "https://localhost:8080/",
          "height": 535
        },
        "id": "877gI4Dbvmbs",
        "outputId": "411d18fe-54e5-47ef-fd7e-d5e08e8c9474"
      },
      "execution_count": null,
      "outputs": [
        {
          "output_type": "execute_result",
          "data": {
            "text/plain": [
              "<class 'statsmodels.iolib.summary.Summary'>\n",
              "\"\"\"\n",
              "                                            SARIMAX Results                                             \n",
              "========================================================================================================\n",
              "Dep. Variable:     Domestic Market (Contract) Blow Molding, Low   No. Observations:                  246\n",
              "Model:                                           ARIMA(1, 0, 5)   Log Likelihood                -682.563\n",
              "Date:                                          Wed, 03 May 2023   AIC                           1381.127\n",
              "Time:                                                  18:19:14   BIC                           1409.170\n",
              "Sample:                                                       0   HQIC                          1392.418\n",
              "                                                          - 246                                         \n",
              "Covariance Type:                                            opg                                         \n",
              "==============================================================================\n",
              "                 coef    std err          z      P>|z|      [0.025      0.975]\n",
              "------------------------------------------------------------------------------\n",
              "const         65.2649     10.621      6.145      0.000      44.448      86.082\n",
              "ar.L1          0.9709      0.024     40.941      0.000       0.924       1.017\n",
              "ma.L1          0.3672      0.045      8.109      0.000       0.278       0.456\n",
              "ma.L2          0.1208      0.101      1.192      0.233      -0.078       0.319\n",
              "ma.L3          0.0046      0.089      0.051      0.959      -0.170       0.179\n",
              "ma.L4         -0.1922      0.090     -2.147      0.032      -0.368      -0.017\n",
              "ma.L5         -0.1014      0.087     -1.172      0.241      -0.271       0.068\n",
              "sigma2        14.8348      0.772     19.214      0.000      13.322      16.348\n",
              "===================================================================================\n",
              "Ljung-Box (L1) (Q):                   0.00   Jarque-Bera (JB):              4306.51\n",
              "Prob(Q):                              0.98   Prob(JB):                         0.00\n",
              "Heteroskedasticity (H):               3.93   Skew:                            -2.91\n",
              "Prob(H) (two-sided):                  0.00   Kurtosis:                        22.65\n",
              "===================================================================================\n",
              "\n",
              "Warnings:\n",
              "[1] Covariance matrix calculated using the outer product of gradients (complex-step).\n",
              "\"\"\""
            ],
            "text/html": [
              "<table class=\"simpletable\">\n",
              "<caption>SARIMAX Results</caption>\n",
              "<tr>\n",
              "  <th>Dep. Variable:</th>   <td>Domestic Market (Contract) Blow Molding, Low</td> <th>  No. Observations:  </th>    <td>246</td>  \n",
              "</tr>\n",
              "<tr>\n",
              "  <th>Model:</th>                          <td>ARIMA(1, 0, 5)</td>                <th>  Log Likelihood     </th> <td>-682.563</td>\n",
              "</tr>\n",
              "<tr>\n",
              "  <th>Date:</th>                          <td>Wed, 03 May 2023</td>               <th>  AIC                </th> <td>1381.127</td>\n",
              "</tr>\n",
              "<tr>\n",
              "  <th>Time:</th>                              <td>18:19:14</td>                   <th>  BIC                </th> <td>1409.170</td>\n",
              "</tr>\n",
              "<tr>\n",
              "  <th>Sample:</th>                                <td>0</td>                      <th>  HQIC               </th> <td>1392.418</td>\n",
              "</tr>\n",
              "<tr>\n",
              "  <th></th>                                    <td> - 246</td>                    <th>                     </th>     <td> </td>   \n",
              "</tr>\n",
              "<tr>\n",
              "  <th>Covariance Type:</th>                      <td>opg</td>                     <th>                     </th>     <td> </td>   \n",
              "</tr>\n",
              "</table>\n",
              "<table class=\"simpletable\">\n",
              "<tr>\n",
              "     <td></td>       <th>coef</th>     <th>std err</th>      <th>z</th>      <th>P>|z|</th>  <th>[0.025</th>    <th>0.975]</th>  \n",
              "</tr>\n",
              "<tr>\n",
              "  <th>const</th>  <td>   65.2649</td> <td>   10.621</td> <td>    6.145</td> <td> 0.000</td> <td>   44.448</td> <td>   86.082</td>\n",
              "</tr>\n",
              "<tr>\n",
              "  <th>ar.L1</th>  <td>    0.9709</td> <td>    0.024</td> <td>   40.941</td> <td> 0.000</td> <td>    0.924</td> <td>    1.017</td>\n",
              "</tr>\n",
              "<tr>\n",
              "  <th>ma.L1</th>  <td>    0.3672</td> <td>    0.045</td> <td>    8.109</td> <td> 0.000</td> <td>    0.278</td> <td>    0.456</td>\n",
              "</tr>\n",
              "<tr>\n",
              "  <th>ma.L2</th>  <td>    0.1208</td> <td>    0.101</td> <td>    1.192</td> <td> 0.233</td> <td>   -0.078</td> <td>    0.319</td>\n",
              "</tr>\n",
              "<tr>\n",
              "  <th>ma.L3</th>  <td>    0.0046</td> <td>    0.089</td> <td>    0.051</td> <td> 0.959</td> <td>   -0.170</td> <td>    0.179</td>\n",
              "</tr>\n",
              "<tr>\n",
              "  <th>ma.L4</th>  <td>   -0.1922</td> <td>    0.090</td> <td>   -2.147</td> <td> 0.032</td> <td>   -0.368</td> <td>   -0.017</td>\n",
              "</tr>\n",
              "<tr>\n",
              "  <th>ma.L5</th>  <td>   -0.1014</td> <td>    0.087</td> <td>   -1.172</td> <td> 0.241</td> <td>   -0.271</td> <td>    0.068</td>\n",
              "</tr>\n",
              "<tr>\n",
              "  <th>sigma2</th> <td>   14.8348</td> <td>    0.772</td> <td>   19.214</td> <td> 0.000</td> <td>   13.322</td> <td>   16.348</td>\n",
              "</tr>\n",
              "</table>\n",
              "<table class=\"simpletable\">\n",
              "<tr>\n",
              "  <th>Ljung-Box (L1) (Q):</th>     <td>0.00</td> <th>  Jarque-Bera (JB):  </th> <td>4306.51</td>\n",
              "</tr>\n",
              "<tr>\n",
              "  <th>Prob(Q):</th>                <td>0.98</td> <th>  Prob(JB):          </th>  <td>0.00</td>  \n",
              "</tr>\n",
              "<tr>\n",
              "  <th>Heteroskedasticity (H):</th> <td>3.93</td> <th>  Skew:              </th>  <td>-2.91</td> \n",
              "</tr>\n",
              "<tr>\n",
              "  <th>Prob(H) (two-sided):</th>    <td>0.00</td> <th>  Kurtosis:          </th>  <td>22.65</td> \n",
              "</tr>\n",
              "</table><br/><br/>Warnings:<br/>[1] Covariance matrix calculated using the outer product of gradients (complex-step)."
            ]
          },
          "metadata": {},
          "execution_count": 236
        }
      ]
    },
    {
      "cell_type": "code",
      "source": [
        "start=len(train)\n",
        "end=len(train)+len(test)-1\n",
        "pred=model.predict(start=start,end=end,typ='levels')\n",
        "print(pred)"
      ],
      "metadata": {
        "colab": {
          "base_uri": "https://localhost:8080/"
        },
        "id": "PXhG2oIdvmjU",
        "outputId": "66c89f22-b72a-4a19-b421-475c34960031"
      },
      "execution_count": null,
      "outputs": [
        {
          "output_type": "stream",
          "name": "stdout",
          "text": [
            "246    47.924210\n",
            "247    50.105199\n",
            "248    51.873654\n",
            "249    51.808565\n",
            "250    51.742811\n",
            "251    52.136157\n",
            "252    52.518061\n",
            "253    52.888856\n",
            "254    53.248864\n",
            "255    53.598400\n",
            "256    53.937769\n",
            "257    54.267265\n",
            "258    54.587177\n",
            "259    54.897783\n",
            "260    55.199354\n",
            "261    55.492152\n",
            "262    55.776433\n",
            "263    56.052444\n",
            "264    56.320427\n",
            "265    56.580614\n",
            "266    56.833233\n",
            "267    57.078503\n",
            "268    57.316638\n",
            "269    57.547847\n",
            "270    57.772329\n",
            "271    57.990282\n",
            "272    58.201895\n",
            "273    58.407352\n",
            "274    58.606832\n",
            "275    58.800510\n",
            "Name: predicted_mean, dtype: float64\n"
          ]
        }
      ]
    },
    {
      "cell_type": "code",
      "source": [
        "test['Domestic Market (Contract) Blow Molding, Low'].mean()"
      ],
      "metadata": {
        "colab": {
          "base_uri": "https://localhost:8080/"
        },
        "id": "-GqVY_sS3KOL",
        "outputId": "73e6190b-48de-434f-94e2-36fc736680e8"
      },
      "execution_count": null,
      "outputs": [
        {
          "output_type": "execute_result",
          "data": {
            "text/plain": [
              "88.03333333333333"
            ]
          },
          "metadata": {},
          "execution_count": 241
        }
      ]
    },
    {
      "cell_type": "code",
      "source": [
        "from math import sqrt"
      ],
      "metadata": {
        "id": "GlE6K_jN4C4M"
      },
      "execution_count": null,
      "outputs": []
    },
    {
      "cell_type": "code",
      "source": [
        "rmse=sqrt(mean_squared_error(pred,test['Domestic Market (Contract) Blow Molding, Low']))\n",
        "print(rmse)"
      ],
      "metadata": {
        "colab": {
          "base_uri": "https://localhost:8080/"
        },
        "id": "gmEMG7EO3XEh",
        "outputId": "7815aa02-eae9-412e-fea2-1515f7f20466"
      },
      "execution_count": null,
      "outputs": [
        {
          "output_type": "stream",
          "name": "stdout",
          "text": [
            "35.9168996020668\n"
          ]
        }
      ]
    },
    {
      "cell_type": "code",
      "source": [
        "model2 = ARIMA(df['Domestic Market (Contract) Blow Molding, Low'],order=(1,0,5))\n",
        "model2 = model2.fit()\n",
        "df.tail()"
      ],
      "metadata": {
        "colab": {
          "base_uri": "https://localhost:8080/",
          "height": 591
        },
        "id": "f2mp2Wg73_cy",
        "outputId": "d78c700b-ada3-4d1d-eac5-a97b4f80d9ee"
      },
      "execution_count": null,
      "outputs": [
        {
          "output_type": "execute_result",
          "data": {
            "text/plain": [
              "            Domestic Market (Contract) Blow Molding, Low  IMPCH  EXPCH  \\\n",
              "Date                                                                     \n",
              "2022-01-08                                            93  50348  12906   \n",
              "2022-01-09                                            90  49247  11953   \n",
              "2022-01-10                                            90  44571  15698   \n",
              "2022-01-11                                            90  36876  15576   \n",
              "2022-01-12                                            90      0      0   \n",
              "\n",
              "            WPUFD4111  \\\n",
              "Date                    \n",
              "2022-01-08        262   \n",
              "2022-01-09        265   \n",
              "2022-01-10        268   \n",
              "2022-01-11        278   \n",
              "2022-01-12          0   \n",
              "\n",
              "            Producer Price Index by Industry: Plastics Material and Resins Manufacturing: Thermoplastic Resins and Plastics Materials   \\\n",
              "Date                                                                                                                                     \n",
              "2022-01-08                                                329                                                                            \n",
              "2022-01-09                                                326                                                                            \n",
              "2022-01-10                                                316                                                                            \n",
              "2022-01-11                                                300                                                                            \n",
              "2022-01-12                                                291                                                                            \n",
              "\n",
              "            Australia _export  Canada_export  Saudi_export  Usa_export  \\\n",
              "Date                                                                     \n",
              "2022-01-08                  0      123065609             0   453122670   \n",
              "2022-01-09                  0      128225112             0   401790570   \n",
              "2022-01-10                  0      129493155             0   403395083   \n",
              "2022-01-11                  0              0             0           0   \n",
              "2022-01-12                  0              0             0           0   \n",
              "\n",
              "            India_export  ...  United Kingdome_import  China_import  \\\n",
              "Date                      ...                                         \n",
              "2022-01-08       5476717  ...                81872550             0   \n",
              "2022-01-09       2561873  ...                74477441             0   \n",
              "2022-01-10       5651870  ...               109421098             0   \n",
              "2022-01-11             0  ...                       0             0   \n",
              "2022-01-12             0  ...                       0             0   \n",
              "\n",
              "            Japan_import  Paper_products  Plastics_bags  Non_packing_plastics  \\\n",
              "Date                                                                            \n",
              "2022-01-08      26097012             142            170                   303   \n",
              "2022-01-09      21277339             142            170                   308   \n",
              "2022-01-10             0             140            168                   311   \n",
              "2022-01-11             0             137            164                   308   \n",
              "2022-01-12             0              66            164                   155   \n",
              "\n",
              "            Spot_market  Rubber_products  Crude_oil  Natural_gas  \n",
              "Date                                                              \n",
              "2022-01-08            0              793         97           12  \n",
              "2022-01-09            0              786         87           11  \n",
              "2022-01-10            0              776         90            9  \n",
              "2022-01-11            0              753         87            9  \n",
              "2022-01-12            0              137         78            8  \n",
              "\n",
              "[5 rows x 39 columns]"
            ],
            "text/html": [
              "\n",
              "  <div id=\"df-a4cd3584-2ff5-41be-9231-7c2b601ca239\">\n",
              "    <div class=\"colab-df-container\">\n",
              "      <div>\n",
              "<style scoped>\n",
              "    .dataframe tbody tr th:only-of-type {\n",
              "        vertical-align: middle;\n",
              "    }\n",
              "\n",
              "    .dataframe tbody tr th {\n",
              "        vertical-align: top;\n",
              "    }\n",
              "\n",
              "    .dataframe thead th {\n",
              "        text-align: right;\n",
              "    }\n",
              "</style>\n",
              "<table border=\"1\" class=\"dataframe\">\n",
              "  <thead>\n",
              "    <tr style=\"text-align: right;\">\n",
              "      <th></th>\n",
              "      <th>Domestic Market (Contract) Blow Molding, Low</th>\n",
              "      <th>IMPCH</th>\n",
              "      <th>EXPCH</th>\n",
              "      <th>WPUFD4111</th>\n",
              "      <th>Producer Price Index by Industry: Plastics Material and Resins Manufacturing: Thermoplastic Resins and Plastics Materials</th>\n",
              "      <th>Australia _export</th>\n",
              "      <th>Canada_export</th>\n",
              "      <th>Saudi_export</th>\n",
              "      <th>Usa_export</th>\n",
              "      <th>India_export</th>\n",
              "      <th>...</th>\n",
              "      <th>United Kingdome_import</th>\n",
              "      <th>China_import</th>\n",
              "      <th>Japan_import</th>\n",
              "      <th>Paper_products</th>\n",
              "      <th>Plastics_bags</th>\n",
              "      <th>Non_packing_plastics</th>\n",
              "      <th>Spot_market</th>\n",
              "      <th>Rubber_products</th>\n",
              "      <th>Crude_oil</th>\n",
              "      <th>Natural_gas</th>\n",
              "    </tr>\n",
              "    <tr>\n",
              "      <th>Date</th>\n",
              "      <th></th>\n",
              "      <th></th>\n",
              "      <th></th>\n",
              "      <th></th>\n",
              "      <th></th>\n",
              "      <th></th>\n",
              "      <th></th>\n",
              "      <th></th>\n",
              "      <th></th>\n",
              "      <th></th>\n",
              "      <th></th>\n",
              "      <th></th>\n",
              "      <th></th>\n",
              "      <th></th>\n",
              "      <th></th>\n",
              "      <th></th>\n",
              "      <th></th>\n",
              "      <th></th>\n",
              "      <th></th>\n",
              "      <th></th>\n",
              "      <th></th>\n",
              "    </tr>\n",
              "  </thead>\n",
              "  <tbody>\n",
              "    <tr>\n",
              "      <th>2022-01-08</th>\n",
              "      <td>93</td>\n",
              "      <td>50348</td>\n",
              "      <td>12906</td>\n",
              "      <td>262</td>\n",
              "      <td>329</td>\n",
              "      <td>0</td>\n",
              "      <td>123065609</td>\n",
              "      <td>0</td>\n",
              "      <td>453122670</td>\n",
              "      <td>5476717</td>\n",
              "      <td>...</td>\n",
              "      <td>81872550</td>\n",
              "      <td>0</td>\n",
              "      <td>26097012</td>\n",
              "      <td>142</td>\n",
              "      <td>170</td>\n",
              "      <td>303</td>\n",
              "      <td>0</td>\n",
              "      <td>793</td>\n",
              "      <td>97</td>\n",
              "      <td>12</td>\n",
              "    </tr>\n",
              "    <tr>\n",
              "      <th>2022-01-09</th>\n",
              "      <td>90</td>\n",
              "      <td>49247</td>\n",
              "      <td>11953</td>\n",
              "      <td>265</td>\n",
              "      <td>326</td>\n",
              "      <td>0</td>\n",
              "      <td>128225112</td>\n",
              "      <td>0</td>\n",
              "      <td>401790570</td>\n",
              "      <td>2561873</td>\n",
              "      <td>...</td>\n",
              "      <td>74477441</td>\n",
              "      <td>0</td>\n",
              "      <td>21277339</td>\n",
              "      <td>142</td>\n",
              "      <td>170</td>\n",
              "      <td>308</td>\n",
              "      <td>0</td>\n",
              "      <td>786</td>\n",
              "      <td>87</td>\n",
              "      <td>11</td>\n",
              "    </tr>\n",
              "    <tr>\n",
              "      <th>2022-01-10</th>\n",
              "      <td>90</td>\n",
              "      <td>44571</td>\n",
              "      <td>15698</td>\n",
              "      <td>268</td>\n",
              "      <td>316</td>\n",
              "      <td>0</td>\n",
              "      <td>129493155</td>\n",
              "      <td>0</td>\n",
              "      <td>403395083</td>\n",
              "      <td>5651870</td>\n",
              "      <td>...</td>\n",
              "      <td>109421098</td>\n",
              "      <td>0</td>\n",
              "      <td>0</td>\n",
              "      <td>140</td>\n",
              "      <td>168</td>\n",
              "      <td>311</td>\n",
              "      <td>0</td>\n",
              "      <td>776</td>\n",
              "      <td>90</td>\n",
              "      <td>9</td>\n",
              "    </tr>\n",
              "    <tr>\n",
              "      <th>2022-01-11</th>\n",
              "      <td>90</td>\n",
              "      <td>36876</td>\n",
              "      <td>15576</td>\n",
              "      <td>278</td>\n",
              "      <td>300</td>\n",
              "      <td>0</td>\n",
              "      <td>0</td>\n",
              "      <td>0</td>\n",
              "      <td>0</td>\n",
              "      <td>0</td>\n",
              "      <td>...</td>\n",
              "      <td>0</td>\n",
              "      <td>0</td>\n",
              "      <td>0</td>\n",
              "      <td>137</td>\n",
              "      <td>164</td>\n",
              "      <td>308</td>\n",
              "      <td>0</td>\n",
              "      <td>753</td>\n",
              "      <td>87</td>\n",
              "      <td>9</td>\n",
              "    </tr>\n",
              "    <tr>\n",
              "      <th>2022-01-12</th>\n",
              "      <td>90</td>\n",
              "      <td>0</td>\n",
              "      <td>0</td>\n",
              "      <td>0</td>\n",
              "      <td>291</td>\n",
              "      <td>0</td>\n",
              "      <td>0</td>\n",
              "      <td>0</td>\n",
              "      <td>0</td>\n",
              "      <td>0</td>\n",
              "      <td>...</td>\n",
              "      <td>0</td>\n",
              "      <td>0</td>\n",
              "      <td>0</td>\n",
              "      <td>66</td>\n",
              "      <td>164</td>\n",
              "      <td>155</td>\n",
              "      <td>0</td>\n",
              "      <td>137</td>\n",
              "      <td>78</td>\n",
              "      <td>8</td>\n",
              "    </tr>\n",
              "  </tbody>\n",
              "</table>\n",
              "<p>5 rows × 39 columns</p>\n",
              "</div>\n",
              "      <button class=\"colab-df-convert\" onclick=\"convertToInteractive('df-a4cd3584-2ff5-41be-9231-7c2b601ca239')\"\n",
              "              title=\"Convert this dataframe to an interactive table.\"\n",
              "              style=\"display:none;\">\n",
              "        \n",
              "  <svg xmlns=\"http://www.w3.org/2000/svg\" height=\"24px\"viewBox=\"0 0 24 24\"\n",
              "       width=\"24px\">\n",
              "    <path d=\"M0 0h24v24H0V0z\" fill=\"none\"/>\n",
              "    <path d=\"M18.56 5.44l.94 2.06.94-2.06 2.06-.94-2.06-.94-.94-2.06-.94 2.06-2.06.94zm-11 1L8.5 8.5l.94-2.06 2.06-.94-2.06-.94L8.5 2.5l-.94 2.06-2.06.94zm10 10l.94 2.06.94-2.06 2.06-.94-2.06-.94-.94-2.06-.94 2.06-2.06.94z\"/><path d=\"M17.41 7.96l-1.37-1.37c-.4-.4-.92-.59-1.43-.59-.52 0-1.04.2-1.43.59L10.3 9.45l-7.72 7.72c-.78.78-.78 2.05 0 2.83L4 21.41c.39.39.9.59 1.41.59.51 0 1.02-.2 1.41-.59l7.78-7.78 2.81-2.81c.8-.78.8-2.07 0-2.86zM5.41 20L4 18.59l7.72-7.72 1.47 1.35L5.41 20z\"/>\n",
              "  </svg>\n",
              "      </button>\n",
              "      \n",
              "  <style>\n",
              "    .colab-df-container {\n",
              "      display:flex;\n",
              "      flex-wrap:wrap;\n",
              "      gap: 12px;\n",
              "    }\n",
              "\n",
              "    .colab-df-convert {\n",
              "      background-color: #E8F0FE;\n",
              "      border: none;\n",
              "      border-radius: 50%;\n",
              "      cursor: pointer;\n",
              "      display: none;\n",
              "      fill: #1967D2;\n",
              "      height: 32px;\n",
              "      padding: 0 0 0 0;\n",
              "      width: 32px;\n",
              "    }\n",
              "\n",
              "    .colab-df-convert:hover {\n",
              "      background-color: #E2EBFA;\n",
              "      box-shadow: 0px 1px 2px rgba(60, 64, 67, 0.3), 0px 1px 3px 1px rgba(60, 64, 67, 0.15);\n",
              "      fill: #174EA6;\n",
              "    }\n",
              "\n",
              "    [theme=dark] .colab-df-convert {\n",
              "      background-color: #3B4455;\n",
              "      fill: #D2E3FC;\n",
              "    }\n",
              "\n",
              "    [theme=dark] .colab-df-convert:hover {\n",
              "      background-color: #434B5C;\n",
              "      box-shadow: 0px 1px 3px 1px rgba(0, 0, 0, 0.15);\n",
              "      filter: drop-shadow(0px 1px 2px rgba(0, 0, 0, 0.3));\n",
              "      fill: #FFFFFF;\n",
              "    }\n",
              "  </style>\n",
              "\n",
              "      <script>\n",
              "        const buttonEl =\n",
              "          document.querySelector('#df-a4cd3584-2ff5-41be-9231-7c2b601ca239 button.colab-df-convert');\n",
              "        buttonEl.style.display =\n",
              "          google.colab.kernel.accessAllowed ? 'block' : 'none';\n",
              "\n",
              "        async function convertToInteractive(key) {\n",
              "          const element = document.querySelector('#df-a4cd3584-2ff5-41be-9231-7c2b601ca239');\n",
              "          const dataTable =\n",
              "            await google.colab.kernel.invokeFunction('convertToInteractive',\n",
              "                                                     [key], {});\n",
              "          if (!dataTable) return;\n",
              "\n",
              "          const docLinkHtml = 'Like what you see? Visit the ' +\n",
              "            '<a target=\"_blank\" href=https://colab.research.google.com/notebooks/data_table.ipynb>data table notebook</a>'\n",
              "            + ' to learn more about interactive tables.';\n",
              "          element.innerHTML = '';\n",
              "          dataTable['output_type'] = 'display_data';\n",
              "          await google.colab.output.renderOutput(dataTable, element);\n",
              "          const docLink = document.createElement('div');\n",
              "          docLink.innerHTML = docLinkHtml;\n",
              "          element.appendChild(docLink);\n",
              "        }\n",
              "      </script>\n",
              "    </div>\n",
              "  </div>\n",
              "  "
            ]
          },
          "metadata": {},
          "execution_count": 245
        }
      ]
    },
    {
      "cell_type": "markdown",
      "source": [
        "# Arima Predictions Domestic Market for next 30 days"
      ],
      "metadata": {
        "id": "zq9dcWcJ6ni3"
      }
    },
    {
      "cell_type": "code",
      "source": [
        "# predictions for next 30 days\n",
        "index_future_dates = pd.date_range(start='2022-01-12',end='2023-01-01')\n",
        "pred = model2.predict(start=len(df),end=len(df)+30,typ='levels').rename('ARIMA Predictions')\n",
        "#pred.index=index_future_dates\n",
        "print(pred)"
      ],
      "metadata": {
        "colab": {
          "base_uri": "https://localhost:8080/"
        },
        "id": "ZWdWiHHJ4gan",
        "outputId": "25ab0f75-64de-49bd-8387-262a56679b85"
      },
      "execution_count": null,
      "outputs": [
        {
          "output_type": "stream",
          "name": "stdout",
          "text": [
            "276    89.539205\n",
            "277    88.593581\n",
            "278    87.811479\n",
            "279    87.162322\n",
            "280    86.535847\n",
            "281    85.934116\n",
            "282    85.356320\n",
            "283    84.801506\n",
            "284    84.268761\n",
            "285    83.757207\n",
            "286    83.266000\n",
            "287    82.794332\n",
            "288    82.341425\n",
            "289    81.906533\n",
            "290    81.488940\n",
            "291    81.087956\n",
            "292    80.702923\n",
            "293    80.333205\n",
            "294    79.978193\n",
            "295    79.637302\n",
            "296    79.309970\n",
            "297    78.995659\n",
            "298    78.693850\n",
            "299    78.404045\n",
            "300    78.125768\n",
            "301    77.858560\n",
            "302    77.601981\n",
            "303    77.355607\n",
            "304    77.119033\n",
            "305    76.891869\n",
            "306    76.673741\n",
            "Name: ARIMA Predictions, dtype: float64\n"
          ]
        }
      ]
    },
    {
      "cell_type": "markdown",
      "source": [
        "# LSTM = Long Short-term memory"
      ],
      "metadata": {
        "id": "D8yfOsgn7rHN"
      }
    },
    {
      "cell_type": "code",
      "source": [
        "scaler = MinMaxScaler()\n",
        "scaler.fit(train)\n",
        "scaled_train = scaler.transform(train)\n",
        "scaled_test = scaler.transform(test)"
      ],
      "metadata": {
        "id": "sOc-Kkbm7foG"
      },
      "execution_count": null,
      "outputs": []
    },
    {
      "cell_type": "code",
      "source": [
        "scaled_train"
      ],
      "metadata": {
        "colab": {
          "base_uri": "https://localhost:8080/"
        },
        "id": "_9z29PcN9Aud",
        "outputId": "0ed64fa7-126d-4758-cf17-ad909fcb41d6"
      },
      "execution_count": null,
      "outputs": [
        {
          "output_type": "execute_result",
          "data": {
            "text/plain": [
              "array([[0.12      , 0.01153021, 0.        , ..., 0.03531599, 0.07758621,\n",
              "        0.        ],\n",
              "       [0.12      , 0.0045727 , 0.0085383 , ..., 0.04460967, 0.09482759,\n",
              "        0.07692308],\n",
              "       [0.17333333, 0.00107207, 0.03658154, ..., 0.04832714, 0.09482759,\n",
              "        0.07692308],\n",
              "       ...,\n",
              "       [0.14666667, 0.533081  , 0.60841297, ..., 0.7527881 , 0.        ,\n",
              "        0.        ],\n",
              "       [0.14666667, 0.65523126, 0.69168103, ..., 0.73048327, 0.09482759,\n",
              "        0.        ],\n",
              "       [0.2       , 0.67645386, 0.65596115, ..., 0.74163569, 0.18965517,\n",
              "        0.        ]])"
            ]
          },
          "metadata": {},
          "execution_count": 312
        }
      ]
    },
    {
      "cell_type": "code",
      "source": [
        "from keras.preprocessing.sequence import TimeseriesGenerator"
      ],
      "metadata": {
        "id": "8YonauwT9C3d"
      },
      "execution_count": null,
      "outputs": []
    },
    {
      "cell_type": "code",
      "source": [
        "# define generator\n",
        "n_input = 3\n",
        "n_features = 39\n",
        "generator = TimeseriesGenerator(scaled_train, scaled_train, length=n_input, batch_size=1)"
      ],
      "metadata": {
        "id": "BeuDds17927h"
      },
      "execution_count": null,
      "outputs": []
    },
    {
      "cell_type": "code",
      "source": [
        "X,y = generator[1]\n",
        "print(f'Given the Array: \\n{X.flatten()}')\n",
        "print(f'Predict this y: \\n{y}')"
      ],
      "metadata": {
        "colab": {
          "base_uri": "https://localhost:8080/"
        },
        "id": "IXC_9r1g-W5F",
        "outputId": "ae4882eb-9678-4cde-e61f-64a21f48f3f3"
      },
      "execution_count": null,
      "outputs": [
        {
          "output_type": "stream",
          "name": "stdout",
          "text": [
            "Given the Array: \n",
            "[0.12       0.0045727  0.0085383  0.01111111 0.12101911 0.\n",
            " 0.         0.         0.         0.         0.         0.\n",
            " 0.04133777 0.02049683 0.40417909 0.         0.         0.\n",
            " 0.         0.         0.         0.         0.         0.\n",
            " 0.         0.04576656 0.05297283 0.30728959 0.         0.\n",
            " 0.         0.         0.         0.         0.4375     0.\n",
            " 0.04460967 0.09482759 0.07692308 0.17333333 0.00107207 0.03658154\n",
            " 0.01111111 0.15286624 0.         0.         0.         0.\n",
            " 0.         0.         0.         0.06294265 0.10549624 0.43142792\n",
            " 0.         0.         0.         0.         0.         0.\n",
            " 0.         0.         0.         0.         0.05446237 0.08917336\n",
            " 0.37782355 0.         0.         0.         0.         0.\n",
            " 0.         0.44166667 0.         0.04832714 0.09482759 0.07692308\n",
            " 0.2        0.01520588 0.02851324 0.02222222 0.18471338 0.\n",
            " 0.         0.         0.         0.         0.         0.\n",
            " 0.00436656 0.10559845 0.2981105  0.         0.         0.\n",
            " 0.         0.         0.         0.         0.         0.\n",
            " 0.         0.05809305 0.04874287 0.26982571 0.         0.\n",
            " 0.         0.         0.         0.         0.44166667 0.\n",
            " 0.05204461 0.06034483 0.07692308]\n",
            "Predict this y: \n",
            "[[0.2        0.03227147 0.05193483 0.03333333 0.21019108 0.\n",
            "  0.         0.         0.         0.         0.         0.\n",
            "  0.01795787 0.14877786 0.34274518 0.         0.         0.\n",
            "  0.         0.         0.         0.         0.         0.\n",
            "  0.         0.0848104  0.08876716 0.24564948 0.         0.\n",
            "  0.         0.         0.         0.         0.44166667 0.\n",
            "  0.05576208 0.09482759 0.15384615]]\n"
          ]
        }
      ]
    },
    {
      "cell_type": "code",
      "source": [
        "X.shape"
      ],
      "metadata": {
        "colab": {
          "base_uri": "https://localhost:8080/"
        },
        "id": "fHvCcm-OGxHv",
        "outputId": "c672502b-8408-41cd-fa3e-412ee238d105"
      },
      "execution_count": null,
      "outputs": [
        {
          "output_type": "execute_result",
          "data": {
            "text/plain": [
              "(1, 3, 39)"
            ]
          },
          "metadata": {},
          "execution_count": 335
        }
      ]
    },
    {
      "cell_type": "code",
      "source": [
        "# We do the same thing , but now instead for 12 months\n",
        "n_input = 12\n",
        "n_features = 39\n",
        "generator = TimeseriesGenerator(scaled_train, scaled_train, length=n_input, batch_size=1)"
      ],
      "metadata": {
        "id": "g031RkxO-39c"
      },
      "execution_count": null,
      "outputs": []
    },
    {
      "cell_type": "code",
      "source": [
        "from tensorflow.keras.models import Sequential\n",
        "from tensorflow.keras.layers import Dense\n",
        "from tensorflow.keras.layers import LSTM\n"
      ],
      "metadata": {
        "id": "nERrlkuU_4tF"
      },
      "execution_count": null,
      "outputs": []
    },
    {
      "cell_type": "code",
      "source": [
        "model = Sequential()\n",
        "model.add(LSTM(100, activation='relu', input_shape=(n_input, n_features)))\n",
        "model.add(Dense(1))\n",
        "model.compile(loss = \"mse\", optimizer = 'adam', metrics=[\"accuracy\"])"
      ],
      "metadata": {
        "id": "aFs8y4zZ_lkk"
      },
      "execution_count": null,
      "outputs": []
    },
    {
      "cell_type": "code",
      "source": [
        "model.summary()"
      ],
      "metadata": {
        "colab": {
          "base_uri": "https://localhost:8080/"
        },
        "id": "HCW6C5aiAonN",
        "outputId": "75aa7f3c-96a3-4af0-dcd3-0dd23edd4162"
      },
      "execution_count": null,
      "outputs": [
        {
          "output_type": "stream",
          "name": "stdout",
          "text": [
            "Model: \"sequential_16\"\n",
            "_________________________________________________________________\n",
            " Layer (type)                Output Shape              Param #   \n",
            "=================================================================\n",
            " lstm_16 (LSTM)              (None, 100)               56000     \n",
            "                                                                 \n",
            " dense_15 (Dense)            (None, 1)                 101       \n",
            "                                                                 \n",
            "=================================================================\n",
            "Total params: 56,101\n",
            "Trainable params: 56,101\n",
            "Non-trainable params: 0\n",
            "_________________________________________________________________\n"
          ]
        }
      ]
    },
    {
      "cell_type": "code",
      "source": [
        "model.fit(generator,epochs=50)"
      ],
      "metadata": {
        "colab": {
          "base_uri": "https://localhost:8080/"
        },
        "id": "kJ4s8PLYMl2z",
        "outputId": "49b0c735-f81f-4058-92a6-1fe0c6019b7c"
      },
      "execution_count": null,
      "outputs": [
        {
          "output_type": "stream",
          "name": "stdout",
          "text": [
            "Epoch 1/50\n",
            "234/234 [==============================] - 4s 9ms/step - loss: 0.0702 - accuracy: 0.3236\n",
            "Epoch 2/50\n",
            "234/234 [==============================] - 3s 11ms/step - loss: 0.0674 - accuracy: 0.3229\n",
            "Epoch 3/50\n",
            "234/234 [==============================] - 2s 8ms/step - loss: 0.0668 - accuracy: 0.3228\n",
            "Epoch 4/50\n",
            "234/234 [==============================] - 2s 7ms/step - loss: 0.0666 - accuracy: 0.3189\n",
            "Epoch 5/50\n",
            "234/234 [==============================] - 2s 7ms/step - loss: 0.0668 - accuracy: 0.3262\n",
            "Epoch 6/50\n",
            "234/234 [==============================] - 2s 7ms/step - loss: 0.0668 - accuracy: 0.3213\n",
            "Epoch 7/50\n",
            "234/234 [==============================] - 2s 7ms/step - loss: 0.0666 - accuracy: 0.3220\n",
            "Epoch 8/50\n",
            "234/234 [==============================] - 3s 11ms/step - loss: 0.0666 - accuracy: 0.3271\n",
            "Epoch 9/50\n",
            "234/234 [==============================] - 2s 10ms/step - loss: 0.0666 - accuracy: 0.3243\n",
            "Epoch 10/50\n",
            "234/234 [==============================] - 2s 7ms/step - loss: 0.0663 - accuracy: 0.3200\n",
            "Epoch 11/50\n",
            "234/234 [==============================] - 2s 7ms/step - loss: 0.0665 - accuracy: 0.3236\n",
            "Epoch 12/50\n",
            "234/234 [==============================] - 2s 7ms/step - loss: 0.0663 - accuracy: 0.3215\n",
            "Epoch 13/50\n",
            "234/234 [==============================] - 2s 7ms/step - loss: 0.0663 - accuracy: 0.3218\n",
            "Epoch 14/50\n",
            "234/234 [==============================] - 2s 9ms/step - loss: 0.0664 - accuracy: 0.3233\n",
            "Epoch 15/50\n",
            "234/234 [==============================] - 3s 11ms/step - loss: 0.0663 - accuracy: 0.3206\n",
            "Epoch 16/50\n",
            "234/234 [==============================] - 2s 7ms/step - loss: 0.0664 - accuracy: 0.3246\n",
            "Epoch 17/50\n",
            "234/234 [==============================] - 2s 7ms/step - loss: 0.0664 - accuracy: 0.3219\n",
            "Epoch 18/50\n",
            "234/234 [==============================] - 2s 7ms/step - loss: 0.0663 - accuracy: 0.3245\n",
            "Epoch 19/50\n",
            "234/234 [==============================] - 2s 8ms/step - loss: 0.0664 - accuracy: 0.3226\n",
            "Epoch 20/50\n",
            "234/234 [==============================] - 3s 11ms/step - loss: 0.0664 - accuracy: 0.3229\n",
            "Epoch 21/50\n",
            "234/234 [==============================] - 2s 7ms/step - loss: 0.0663 - accuracy: 0.3214\n",
            "Epoch 22/50\n",
            "234/234 [==============================] - 2s 7ms/step - loss: 0.0663 - accuracy: 0.3228\n",
            "Epoch 23/50\n",
            "234/234 [==============================] - 2s 7ms/step - loss: 0.0663 - accuracy: 0.3228\n",
            "Epoch 24/50\n",
            "234/234 [==============================] - 2s 7ms/step - loss: 0.0662 - accuracy: 0.3235\n",
            "Epoch 25/50\n",
            "234/234 [==============================] - 2s 8ms/step - loss: 0.0663 - accuracy: 0.3214\n",
            "Epoch 26/50\n",
            "234/234 [==============================] - 3s 11ms/step - loss: 0.0663 - accuracy: 0.3235\n",
            "Epoch 27/50\n",
            "234/234 [==============================] - 2s 8ms/step - loss: 0.0663 - accuracy: 0.3237\n",
            "Epoch 28/50\n",
            "234/234 [==============================] - 2s 7ms/step - loss: 0.0662 - accuracy: 0.3241\n",
            "Epoch 29/50\n",
            "234/234 [==============================] - 2s 7ms/step - loss: 0.0662 - accuracy: 0.3207\n",
            "Epoch 30/50\n",
            "234/234 [==============================] - 2s 7ms/step - loss: 0.0662 - accuracy: 0.3229\n",
            "Epoch 31/50\n",
            "234/234 [==============================] - 2s 7ms/step - loss: 0.0664 - accuracy: 0.3253\n",
            "Epoch 32/50\n",
            "234/234 [==============================] - 3s 11ms/step - loss: 0.0663 - accuracy: 0.3234\n",
            "Epoch 33/50\n",
            "234/234 [==============================] - 2s 7ms/step - loss: 0.0662 - accuracy: 0.3213\n",
            "Epoch 34/50\n",
            "234/234 [==============================] - 2s 7ms/step - loss: 0.0663 - accuracy: 0.3226\n",
            "Epoch 35/50\n",
            "234/234 [==============================] - 2s 7ms/step - loss: 0.0662 - accuracy: 0.3227\n",
            "Epoch 36/50\n",
            "234/234 [==============================] - 2s 8ms/step - loss: 0.0662 - accuracy: 0.3251\n",
            "Epoch 37/50\n",
            "234/234 [==============================] - 3s 11ms/step - loss: 0.0662 - accuracy: 0.3211\n",
            "Epoch 38/50\n",
            "234/234 [==============================] - 2s 7ms/step - loss: 0.0663 - accuracy: 0.3261\n",
            "Epoch 39/50\n",
            "234/234 [==============================] - 2s 7ms/step - loss: 0.0661 - accuracy: 0.3202\n",
            "Epoch 40/50\n",
            "234/234 [==============================] - 2s 7ms/step - loss: 0.0662 - accuracy: 0.3245\n",
            "Epoch 41/50\n",
            "234/234 [==============================] - 2s 7ms/step - loss: 0.0662 - accuracy: 0.3237\n",
            "Epoch 42/50\n",
            "234/234 [==============================] - 3s 11ms/step - loss: 0.0662 - accuracy: 0.3206\n",
            "Epoch 43/50\n",
            "234/234 [==============================] - 2s 7ms/step - loss: 0.0662 - accuracy: 0.3231\n",
            "Epoch 44/50\n",
            "234/234 [==============================] - 2s 7ms/step - loss: 0.0661 - accuracy: 0.3220\n",
            "Epoch 45/50\n",
            "234/234 [==============================] - 2s 7ms/step - loss: 0.0662 - accuracy: 0.3234\n",
            "Epoch 46/50\n",
            "234/234 [==============================] - 2s 7ms/step - loss: 0.0661 - accuracy: 0.3216\n",
            "Epoch 47/50\n",
            "234/234 [==============================] - 2s 9ms/step - loss: 0.0661 - accuracy: 0.3230\n",
            "Epoch 48/50\n",
            "234/234 [==============================] - 3s 11ms/step - loss: 0.0662 - accuracy: 0.3213\n",
            "Epoch 49/50\n",
            "234/234 [==============================] - 2s 7ms/step - loss: 0.0662 - accuracy: 0.3248\n",
            "Epoch 50/50\n",
            "234/234 [==============================] - 2s 7ms/step - loss: 0.0663 - accuracy: 0.3233\n"
          ]
        },
        {
          "output_type": "execute_result",
          "data": {
            "text/plain": [
              "<keras.callbacks.History at 0x7f3ca199d900>"
            ]
          },
          "metadata": {},
          "execution_count": 361
        }
      ]
    },
    {
      "cell_type": "code",
      "source": [
        "loss_per_epoch = model.history.history['loss']\n",
        "plt.plot(range(len(loss_per_epoch)),loss_per_epoch)"
      ],
      "metadata": {
        "colab": {
          "base_uri": "https://localhost:8080/",
          "height": 447
        },
        "id": "qt5OtgmjM14b",
        "outputId": "0b01a9b4-09a5-4331-abc9-1430d4c00e5a"
      },
      "execution_count": null,
      "outputs": [
        {
          "output_type": "execute_result",
          "data": {
            "text/plain": [
              "[<matplotlib.lines.Line2D at 0x7f3ca1b5dd80>]"
            ]
          },
          "metadata": {},
          "execution_count": 362
        },
        {
          "output_type": "display_data",
          "data": {
            "text/plain": [
              "<Figure size 640x480 with 1 Axes>"
            ],
            "image/png": "[encoded data removed]"
          },
          "metadata": {}
        }
      ]
    },
    {
      "cell_type": "code",
      "source": [
        "last_train_batch = scaled_train[-12:]"
      ],
      "metadata": {
        "id": "rd05iAHxMPCj"
      },
      "execution_count": null,
      "outputs": []
    },
    {
      "cell_type": "code",
      "source": [
        "last_train_batch = last_train_batch.reshape((1, n_input, n_features))"
      ],
      "metadata": {
        "id": "tIqYmXoWLys0"
      },
      "execution_count": null,
      "outputs": []
    },
    {
      "cell_type": "code",
      "source": [
        "model.predict(last_train_batch)"
      ],
      "metadata": {
        "colab": {
          "base_uri": "https://localhost:8080/"
        },
        "id": "afvhfJ3LMOU3",
        "outputId": "e3c72842-23d5-44b2-d819-f78cc0387150"
      },
      "execution_count": null,
      "outputs": [
        {
          "output_type": "stream",
          "name": "stdout",
          "text": [
            "1/1 [==============================] - 0s 22ms/step\n"
          ]
        },
        {
          "output_type": "execute_result",
          "data": {
            "text/plain": [
              "array([[0.44500026]], dtype=float32)"
            ]
          },
          "metadata": {},
          "execution_count": 378
        }
      ]
    },
    {
      "cell_type": "code",
      "source": [
        "test_predictions = []\n",
        "first_eval_batch = scaled_train[-n_input:]\n",
        "current_batch = first_eval_batch.reshape((1, n_input, n_features))\n",
        "for i in range(len(test)):\n",
        "\n",
        "  current_pred = model.predict(current_batch)[0]\n",
        "  test_predictions.append(current_pred)\n",
        "  #current_batch = np.append(current_batch[],[[current_pred]],axis=1)\n",
        "\n"
      ],
      "metadata": {
        "colab": {
          "base_uri": "https://localhost:8080/"
        },
        "id": "qPcDNmcZVOIR",
        "outputId": "df209aed-9bba-4a4f-fe12-41906284b4ed"
      },
      "execution_count": null,
      "outputs": [
        {
          "output_type": "stream",
          "name": "stdout",
          "text": [
            "1/1 [==============================] - 0s 35ms/step\n",
            "1/1 [==============================] - 0s 31ms/step\n",
            "1/1 [==============================] - 0s 34ms/step\n",
            "1/1 [==============================] - 0s 69ms/step\n",
            "1/1 [==============================] - 0s 68ms/step\n",
            "1/1 [==============================] - 0s 115ms/step\n",
            "1/1 [==============================] - 0s 50ms/step\n",
            "1/1 [==============================] - 0s 26ms/step\n",
            "1/1 [==============================] - 0s 35ms/step\n",
            "1/1 [==============================] - 0s 24ms/step\n",
            "1/1 [==============================] - 0s 24ms/step\n",
            "1/1 [==============================] - 0s 24ms/step\n",
            "1/1 [==============================] - 0s 23ms/step\n",
            "1/1 [==============================] - 0s 23ms/step\n",
            "1/1 [==============================] - 0s 22ms/step\n",
            "1/1 [==============================] - 0s 25ms/step\n",
            "1/1 [==============================] - 0s 25ms/step\n",
            "1/1 [==============================] - 0s 22ms/step\n",
            "1/1 [==============================] - 0s 23ms/step\n",
            "1/1 [==============================] - 0s 22ms/step\n",
            "1/1 [==============================] - 0s 29ms/step\n",
            "1/1 [==============================] - 0s 22ms/step\n",
            "1/1 [==============================] - 0s 24ms/step\n",
            "1/1 [==============================] - 0s 22ms/step\n",
            "1/1 [==============================] - 0s 24ms/step\n",
            "1/1 [==============================] - 0s 24ms/step\n",
            "1/1 [==============================] - 0s 23ms/step\n",
            "1/1 [==============================] - 0s 23ms/step\n",
            "1/1 [==============================] - 0s 22ms/step\n",
            "1/1 [==============================] - 0s 24ms/step\n"
          ]
        }
      ]
    },
    {
      "cell_type": "code",
      "source": [
        "test_predictions"
      ],
      "metadata": {
        "colab": {
          "base_uri": "https://localhost:8080/"
        },
        "id": "Y4Ot1zx-aq0W",
        "outputId": "3da6e067-6d91-4efe-b26a-72a1f0bdf93f"
      },
      "execution_count": null,
      "outputs": [
        {
          "output_type": "execute_result",
          "data": {
            "text/plain": [
              "[array([0.44500026], dtype=float32),\n",
              " array([0.44500026], dtype=float32),\n",
              " array([0.44500026], dtype=float32),\n",
              " array([0.44500026], dtype=float32),\n",
              " array([0.44500026], dtype=float32),\n",
              " array([0.44500026], dtype=float32),\n",
              " array([0.44500026], dtype=float32),\n",
              " array([0.44500026], dtype=float32),\n",
              " array([0.44500026], dtype=float32),\n",
              " array([0.44500026], dtype=float32),\n",
              " array([0.44500026], dtype=float32),\n",
              " array([0.44500026], dtype=float32),\n",
              " array([0.44500026], dtype=float32),\n",
              " array([0.44500026], dtype=float32),\n",
              " array([0.44500026], dtype=float32),\n",
              " array([0.44500026], dtype=float32),\n",
              " array([0.44500026], dtype=float32),\n",
              " array([0.44500026], dtype=float32),\n",
              " array([0.44500026], dtype=float32),\n",
              " array([0.44500026], dtype=float32),\n",
              " array([0.44500026], dtype=float32),\n",
              " array([0.44500026], dtype=float32),\n",
              " array([0.44500026], dtype=float32),\n",
              " array([0.44500026], dtype=float32),\n",
              " array([0.44500026], dtype=float32),\n",
              " array([0.44500026], dtype=float32),\n",
              " array([0.44500026], dtype=float32),\n",
              " array([0.44500026], dtype=float32),\n",
              " array([0.44500026], dtype=float32),\n",
              " array([0.44500026], dtype=float32)]"
            ]
          },
          "metadata": {},
          "execution_count": 413
        }
      ]
    },
    {
      "cell_type": "markdown",
      "source": [
        "# Test Prediction from LSTM "
      ],
      "metadata": {
        "id": "Rw_6ca64c5WT"
      }
    }
  ]
}